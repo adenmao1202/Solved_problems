{
 "cells": [
  {
   "cell_type": "code",
   "execution_count": 1,
   "metadata": {},
   "outputs": [],
   "source": [
    "import numpy as np\n",
    "import pandas as pd\n",
    "import matplotlib.pyplot as plt"
   ]
  },
  {
   "cell_type": "code",
   "execution_count": 2,
   "metadata": {},
   "outputs": [
    {
     "name": "stdout",
     "output_type": "stream",
     "text": [
      "1.0251378643557973\n"
     ]
    }
   ],
   "source": [
    "def out(x):\n",
    "    print(x)\n",
    "    \n",
    "out(143.14 / 139.63\t)"
   ]
  },
  {
   "cell_type": "code",
   "execution_count": 3,
   "metadata": {},
   "outputs": [
    {
     "name": "stdout",
     "output_type": "stream",
     "text": [
      "68.73661906145807\n"
     ]
    }
   ],
   "source": [
    "out(4.33 * (252 )**0.5) "
   ]
  },
  {
   "cell_type": "markdown",
   "metadata": {},
   "source": [
    "### 熟悉numpy 運算"
   ]
  },
  {
   "cell_type": "markdown",
   "metadata": {},
   "source": [
    "### delta "
   ]
  },
  {
   "cell_type": "code",
   "execution_count": 4,
   "metadata": {},
   "outputs": [],
   "source": [
    "def delta(future_end, future_start, target_end, target_start):\n",
    "    global target_diff \n",
    "    global future_diff \n",
    "    target_diff = target_end - target_start\n",
    "    future_diff = future_end - future_start\n",
    "    \n",
    "    if target_diff == 0: \n",
    "        raise ZeroDivisionError ( \"Cannot divide by zero\" ) \n",
    "    else : \n",
    "        return future_diff / target_diff\n",
    "    "
   ]
  },
  {
   "cell_type": "code",
   "execution_count": 5,
   "metadata": {},
   "outputs": [
    {
     "data": {
      "text/plain": [
       "-351.0000000003183"
      ]
     },
     "execution_count": 5,
     "metadata": {},
     "output_type": "execute_result"
    }
   ],
   "source": [
    "delta ( 139.63, 143.14, 140.63, 140.62)"
   ]
  },
  {
   "cell_type": "code",
   "execution_count": 6,
   "metadata": {},
   "outputs": [
    {
     "name": "stdout",
     "output_type": "stream",
     "text": [
      "[5 7 9]\n"
     ]
    }
   ],
   "source": [
    "a = np.array ([1, 2, 3])\n",
    "b = np.array ([4, 5, 6])\n",
    "\n",
    "out (a+ b)\n"
   ]
  },
  {
   "cell_type": "code",
   "execution_count": 7,
   "metadata": {},
   "outputs": [
    {
     "data": {
      "text/plain": [
       "array([ 4, 10, 18])"
      ]
     },
     "execution_count": 7,
     "metadata": {},
     "output_type": "execute_result"
    }
   ],
   "source": [
    "a * b"
   ]
  },
  {
   "cell_type": "code",
   "execution_count": 8,
   "metadata": {},
   "outputs": [
    {
     "data": {
      "text/plain": [
       "array([2, 3, 4])"
      ]
     },
     "execution_count": 8,
     "metadata": {},
     "output_type": "execute_result"
    }
   ],
   "source": [
    "c = np.array ([1, 2, 3])\n",
    "c += 1\n",
    "c"
   ]
  },
  {
   "cell_type": "code",
   "execution_count": 9,
   "metadata": {},
   "outputs": [
    {
     "name": "stdout",
     "output_type": "stream",
     "text": [
      "[1, 2, 3, 1]\n"
     ]
    }
   ],
   "source": [
    "lis = [1, 2, 3]\n",
    "lis += [1]\n",
    "out(lis)"
   ]
  },
  {
   "cell_type": "code",
   "execution_count": 10,
   "metadata": {},
   "outputs": [
    {
     "name": "stdout",
     "output_type": "stream",
     "text": [
      "[1, 2, 3, 1, 1]\n"
     ]
    }
   ],
   "source": [
    "lis.append(1)\n",
    "out(lis)"
   ]
  },
  {
   "cell_type": "code",
   "execution_count": 11,
   "metadata": {},
   "outputs": [
    {
     "data": {
      "text/plain": [
       "array([[1, 2, 3],\n",
       "       [4, 5, 6]])"
      ]
     },
     "execution_count": 11,
     "metadata": {},
     "output_type": "execute_result"
    }
   ],
   "source": [
    "d = np.array ([[1, 2, 3], [4, 5, 6]])\n",
    "d\n"
   ]
  },
  {
   "cell_type": "code",
   "execution_count": 12,
   "metadata": {},
   "outputs": [
    {
     "data": {
      "text/plain": [
       "(2, (2, 3))"
      ]
     },
     "execution_count": 12,
     "metadata": {},
     "output_type": "execute_result"
    }
   ],
   "source": [
    "d.ndim, d.shape"
   ]
  },
  {
   "cell_type": "code",
   "execution_count": 13,
   "metadata": {},
   "outputs": [
    {
     "data": {
      "text/plain": [
       "5"
      ]
     },
     "execution_count": 13,
     "metadata": {},
     "output_type": "execute_result"
    }
   ],
   "source": [
    "d[1, -2]\n",
    "\n"
   ]
  },
  {
   "cell_type": "code",
   "execution_count": 14,
   "metadata": {},
   "outputs": [
    {
     "data": {
      "text/plain": [
       "array([1, 2, 3])"
      ]
     },
     "execution_count": 14,
     "metadata": {},
     "output_type": "execute_result"
    }
   ],
   "source": [
    "d[0, : ]"
   ]
  },
  {
   "cell_type": "code",
   "execution_count": 15,
   "metadata": {},
   "outputs": [
    {
     "data": {
      "text/plain": [
       "array([[ 1, 10,  3],\n",
       "       [ 4,  5,  6]])"
      ]
     },
     "execution_count": 15,
     "metadata": {},
     "output_type": "execute_result"
    }
   ],
   "source": [
    "d [0, 1] = 10\n",
    "d"
   ]
  },
  {
   "cell_type": "code",
   "execution_count": 16,
   "metadata": {},
   "outputs": [
    {
     "data": {
      "text/plain": [
       "array([[[ 1,  2,  3],\n",
       "        [ 4,  5,  6]],\n",
       "\n",
       "       [[ 7,  8,  9],\n",
       "        [10, 11, 12]]])"
      ]
     },
     "execution_count": 16,
     "metadata": {},
     "output_type": "execute_result"
    }
   ],
   "source": [
    "e = np.array ([[[1, 2, 3], [4, 5, 6]], [[7, 8, 9], [10, 11, 12]]])\n",
    "e"
   ]
  },
  {
   "cell_type": "code",
   "execution_count": 17,
   "metadata": {},
   "outputs": [
    {
     "data": {
      "text/plain": [
       "6"
      ]
     },
     "execution_count": 17,
     "metadata": {},
     "output_type": "execute_result"
    }
   ],
   "source": [
    "e[0, 1, 2]"
   ]
  },
  {
   "cell_type": "code",
   "execution_count": 18,
   "metadata": {},
   "outputs": [],
   "source": [
    "## 初始化"
   ]
  },
  {
   "cell_type": "code",
   "execution_count": 19,
   "metadata": {},
   "outputs": [
    {
     "data": {
      "text/plain": [
       "array([[[0., 0., 0.],\n",
       "        [0., 0., 0.],\n",
       "        [0., 0., 0.]],\n",
       "\n",
       "       [[0., 0., 0.],\n",
       "        [0., 0., 0.],\n",
       "        [0., 0., 0.]]])"
      ]
     },
     "execution_count": 19,
     "metadata": {},
     "output_type": "execute_result"
    }
   ],
   "source": [
    "zero = np.zeros ((2, 3, 3))\n",
    "zero"
   ]
  },
  {
   "cell_type": "code",
   "execution_count": 20,
   "metadata": {},
   "outputs": [
    {
     "data": {
      "text/plain": [
       "array([[0, 0, 0],\n",
       "       [0, 0, 0]])"
      ]
     },
     "execution_count": 20,
     "metadata": {},
     "output_type": "execute_result"
    }
   ],
   "source": [
    "zeros = np.zeros((2, 3), dtype = int)\n",
    "zeros"
   ]
  },
  {
   "cell_type": "code",
   "execution_count": 21,
   "metadata": {},
   "outputs": [
    {
     "data": {
      "text/plain": [
       "array([[4, 4, 4],\n",
       "       [4, 4, 4]])"
      ]
     },
     "execution_count": 21,
     "metadata": {},
     "output_type": "execute_result"
    }
   ],
   "source": [
    "full4 = np.full ((2, 3), 4)\n",
    "full4"
   ]
  },
  {
   "cell_type": "code",
   "execution_count": 22,
   "metadata": {},
   "outputs": [
    {
     "data": {
      "text/plain": [
       "array([[[99., 99., 99.],\n",
       "        [99., 99., 99.],\n",
       "        [99., 99., 99.]],\n",
       "\n",
       "       [[99., 99., 99.],\n",
       "        [99., 99., 99.],\n",
       "        [99., 99., 99.]]])"
      ]
     },
     "execution_count": 22,
     "metadata": {},
     "output_type": "execute_result"
    }
   ],
   "source": [
    "full99 = np.full_like (zero, 99)\n",
    "# np.full_like: 矩陣大小跟右邊第一個 param size 一樣的 \n",
    "full99\n"
   ]
  },
  {
   "cell_type": "code",
   "execution_count": 23,
   "metadata": {},
   "outputs": [
    {
     "data": {
      "text/plain": [
       "array([[0.71545722, 0.54361114, 0.03105614],\n",
       "       [0.34161074, 0.97119125, 0.11343749]])"
      ]
     },
     "execution_count": 23,
     "metadata": {},
     "output_type": "execute_result"
    }
   ],
   "source": [
    "## np.random.rand ( 小數點 )\n",
    "\n",
    "random = np.random.rand(2, 3)\n",
    "random"
   ]
  },
  {
   "cell_type": "code",
   "execution_count": 24,
   "metadata": {},
   "outputs": [
    {
     "data": {
      "text/plain": [
       "array([[[0.96110649, 0.23519589, 0.31510362],\n",
       "        [0.42651756, 0.28778798, 0.20776056],\n",
       "        [0.26885803, 0.60244612, 0.53593144]],\n",
       "\n",
       "       [[0.69220439, 0.92533378, 0.09072289],\n",
       "        [0.86456233, 0.58392803, 0.67761883],\n",
       "        [0.79504849, 0.91969712, 0.7411769 ]]])"
      ]
     },
     "execution_count": 24,
     "metadata": {},
     "output_type": "execute_result"
    }
   ],
   "source": [
    "# 有一個shape 我想要初始化成亂數\n",
    "random_shape = np.random.random_sample (full99.shape)\n",
    "random_shape"
   ]
  },
  {
   "cell_type": "code",
   "execution_count": 25,
   "metadata": {},
   "outputs": [
    {
     "data": {
      "text/plain": [
       "array([[4, 6, 5],\n",
       "       [4, 6, 4]])"
      ]
     },
     "execution_count": 25,
     "metadata": {},
     "output_type": "execute_result"
    }
   ],
   "source": [
    "random_int = np.random.randint (4, 7, size = (2, 3)) ## 這邊 4,8 想像成 [4, 8]\n",
    "random_int\n"
   ]
  },
  {
   "cell_type": "code",
   "execution_count": 26,
   "metadata": {},
   "outputs": [
    {
     "data": {
      "text/plain": [
       "array([[16.,  0.,  0.],\n",
       "       [ 0., 16.,  0.],\n",
       "       [ 0.,  0., 16.]])"
      ]
     },
     "execution_count": 26,
     "metadata": {},
     "output_type": "execute_result"
    }
   ],
   "source": [
    "iden = np.identity (3)\n",
    "for i in range (4):\n",
    "    iden += iden\n",
    "iden"
   ]
  },
  {
   "cell_type": "code",
   "execution_count": 27,
   "metadata": {},
   "outputs": [
    {
     "data": {
      "text/plain": [
       "array([[1, 2, 3],\n",
       "       [1, 2, 3],\n",
       "       [1, 2, 3]])"
      ]
     },
     "execution_count": 27,
     "metadata": {},
     "output_type": "execute_result"
    }
   ],
   "source": [
    "arr = np.array ([[1, 2, 3]])\n",
    "rep = arr.repeat (3, axis = 0)\n",
    "rep"
   ]
  },
  {
   "cell_type": "code",
   "execution_count": 28,
   "metadata": {},
   "outputs": [
    {
     "data": {
      "text/plain": [
       "array([[1, 1, 1, 2, 2, 2, 3, 3, 3]])"
      ]
     },
     "execution_count": 28,
     "metadata": {},
     "output_type": "execute_result"
    }
   ],
   "source": [
    "repeat = arr.repeat (3, axis = 1)\n",
    "repeat\n",
    "\n"
   ]
  },
  {
   "cell_type": "markdown",
   "metadata": {},
   "source": [
    "### Create a targetted matrix  "
   ]
  },
  {
   "cell_type": "code",
   "execution_count": 29,
   "metadata": {},
   "outputs": [
    {
     "data": {
      "text/plain": [
       "array([[1, 1, 1, 1, 1],\n",
       "       [1, 1, 1, 1, 1],\n",
       "       [1, 1, 1, 1, 1],\n",
       "       [1, 1, 1, 1, 1],\n",
       "       [1, 1, 1, 1, 1]])"
      ]
     },
     "execution_count": 29,
     "metadata": {},
     "output_type": "execute_result"
    }
   ],
   "source": [
    "full = np.ones((5, 5), dtype = int)\n",
    "full"
   ]
  },
  {
   "cell_type": "code",
   "execution_count": 30,
   "metadata": {},
   "outputs": [
    {
     "data": {
      "text/plain": [
       "array([[0, 0, 0],\n",
       "       [0, 9, 0],\n",
       "       [0, 0, 0]])"
      ]
     },
     "execution_count": 30,
     "metadata": {},
     "output_type": "execute_result"
    }
   ],
   "source": [
    "z = np.zeros((3, 3), dtype = int)\n",
    "z[1, 1] = 9\n",
    "z\n"
   ]
  },
  {
   "cell_type": "code",
   "execution_count": 31,
   "metadata": {},
   "outputs": [
    {
     "data": {
      "text/plain": [
       "array([[1, 1, 1, 1, 1],\n",
       "       [1, 0, 0, 0, 1],\n",
       "       [1, 0, 9, 0, 1],\n",
       "       [1, 0, 0, 0, 1],\n",
       "       [1, 1, 1, 1, 1]])"
      ]
     },
     "execution_count": 31,
     "metadata": {},
     "output_type": "execute_result"
    }
   ],
   "source": [
    "full[1:4, 1:4] = z\n",
    "full"
   ]
  },
  {
   "cell_type": "code",
   "execution_count": 32,
   "metadata": {},
   "outputs": [],
   "source": [
    "## be careful "
   ]
  },
  {
   "cell_type": "code",
   "execution_count": 33,
   "metadata": {},
   "outputs": [
    {
     "data": {
      "text/plain": [
       "array([[1, 2, 3]])"
      ]
     },
     "execution_count": 33,
     "metadata": {},
     "output_type": "execute_result"
    }
   ],
   "source": [
    "a = np.array([[1, 2, 3]])\n",
    "b = a \n",
    "b"
   ]
  },
  {
   "cell_type": "code",
   "execution_count": 34,
   "metadata": {},
   "outputs": [
    {
     "data": {
      "text/plain": [
       "array([[100,   2,   3]])"
      ]
     },
     "execution_count": 34,
     "metadata": {},
     "output_type": "execute_result"
    }
   ],
   "source": [
    "b[0, 0] = 100\n",
    "a"
   ]
  },
  {
   "cell_type": "code",
   "execution_count": 35,
   "metadata": {},
   "outputs": [
    {
     "data": {
      "text/plain": [
       "array([1, 2, 3])"
      ]
     },
     "execution_count": 35,
     "metadata": {},
     "output_type": "execute_result"
    }
   ],
   "source": [
    "c = np.array([1, 2, 3])\n",
    "c"
   ]
  },
  {
   "cell_type": "code",
   "execution_count": 36,
   "metadata": {},
   "outputs": [
    {
     "data": {
      "text/plain": [
       "array([1, 2, 3])"
      ]
     },
     "execution_count": 36,
     "metadata": {},
     "output_type": "execute_result"
    }
   ],
   "source": [
    "d = c.copy()\n",
    "c[0 ] = 99\n",
    "d\n"
   ]
  },
  {
   "cell_type": "code",
   "execution_count": 37,
   "metadata": {},
   "outputs": [],
   "source": [
    "## Math"
   ]
  },
  {
   "cell_type": "code",
   "execution_count": 38,
   "metadata": {},
   "outputs": [
    {
     "data": {
      "text/plain": [
       "[1, 2, 3, 1]"
      ]
     },
     "execution_count": 38,
     "metadata": {},
     "output_type": "execute_result"
    }
   ],
   "source": [
    "a = [1, 2, 3]\n",
    "a += [ 1 ] \n",
    "a"
   ]
  },
  {
   "cell_type": "code",
   "execution_count": 39,
   "metadata": {},
   "outputs": [
    {
     "name": "stdout",
     "output_type": "stream",
     "text": [
      "[2 3 4]\n",
      "[2 3 4]\n"
     ]
    }
   ],
   "source": [
    "a  = np.array ([1, 2, 3])\n",
    "a += [ 1 ]\n",
    "out(a)\n",
    "\n",
    "a +1 \n",
    "out(a)\n",
    "\n",
    "\n",
    "\n",
    "\n",
    "\n"
   ]
  },
  {
   "cell_type": "code",
   "execution_count": 40,
   "metadata": {},
   "outputs": [
    {
     "data": {
      "text/plain": [
       "array([ 4,  9, 16])"
      ]
     },
     "execution_count": 40,
     "metadata": {},
     "output_type": "execute_result"
    }
   ],
   "source": [
    "a * a "
   ]
  },
  {
   "cell_type": "code",
   "execution_count": 41,
   "metadata": {},
   "outputs": [
    {
     "data": {
      "text/plain": [
       "array([0, 3, 8])"
      ]
     },
     "execution_count": 41,
     "metadata": {},
     "output_type": "execute_result"
    }
   ],
   "source": [
    "b = np.array ([0, 1, 2])\n",
    "a * b\n"
   ]
  },
  {
   "cell_type": "code",
   "execution_count": 42,
   "metadata": {},
   "outputs": [],
   "source": [
    "## Linear alegebra"
   ]
  },
  {
   "cell_type": "code",
   "execution_count": 43,
   "metadata": {},
   "outputs": [
    {
     "name": "stdout",
     "output_type": "stream",
     "text": [
      "[[1 1 1]\n",
      " [1 1 1]]\n",
      "[[2 2]\n",
      " [2 2]\n",
      " [2 2]]\n"
     ]
    }
   ],
   "source": [
    "a = np.ones ( (2, 3), dtype = int )\n",
    "out(a)\n",
    "\n",
    "b = np.full( (3, 2), 2)\n",
    "out(b)\n",
    "\n",
    "\n",
    " \n"
   ]
  },
  {
   "cell_type": "code",
   "execution_count": 44,
   "metadata": {},
   "outputs": [
    {
     "data": {
      "text/plain": [
       "array([[6, 6],\n",
       "       [6, 6]])"
      ]
     },
     "execution_count": 44,
     "metadata": {},
     "output_type": "execute_result"
    }
   ],
   "source": [
    "np.matmul(a , b)"
   ]
  },
  {
   "cell_type": "code",
   "execution_count": 45,
   "metadata": {},
   "outputs": [
    {
     "data": {
      "text/plain": [
       "array([[1., 0., 0.],\n",
       "       [0., 1., 0.],\n",
       "       [0., 0., 1.]])"
      ]
     },
     "execution_count": 45,
     "metadata": {},
     "output_type": "execute_result"
    }
   ],
   "source": [
    "c = np.identity (3)\n",
    "c"
   ]
  },
  {
   "cell_type": "code",
   "execution_count": 46,
   "metadata": {},
   "outputs": [
    {
     "data": {
      "text/plain": [
       "1.0"
      ]
     },
     "execution_count": 46,
     "metadata": {},
     "output_type": "execute_result"
    }
   ],
   "source": [
    "## Find the determinant\n",
    "np.linalg.det(c)"
   ]
  },
  {
   "cell_type": "code",
   "execution_count": 47,
   "metadata": {},
   "outputs": [],
   "source": [
    "## Stats"
   ]
  },
  {
   "cell_type": "code",
   "execution_count": 48,
   "metadata": {},
   "outputs": [
    {
     "data": {
      "text/plain": [
       "array([[1, 2, 3],\n",
       "       [4, 5, 6]])"
      ]
     },
     "execution_count": 48,
     "metadata": {},
     "output_type": "execute_result"
    }
   ],
   "source": [
    "a = np.array ([[1, 2, 3], [4, 5, 6]])\n",
    "a "
   ]
  },
  {
   "cell_type": "code",
   "execution_count": 49,
   "metadata": {},
   "outputs": [
    {
     "data": {
      "text/plain": [
       "1"
      ]
     },
     "execution_count": 49,
     "metadata": {},
     "output_type": "execute_result"
    }
   ],
   "source": [
    "# total min \n",
    "a.min()"
   ]
  },
  {
   "cell_type": "code",
   "execution_count": 50,
   "metadata": {},
   "outputs": [
    {
     "name": "stdout",
     "output_type": "stream",
     "text": [
      "[1 2 3]\n",
      "[1 4]\n"
     ]
    }
   ],
   "source": [
    "# axis = 0, row\n",
    "out(a.min(axis = 0))\n",
    "\n",
    "# axis = 1. column\n",
    "out(a.min(axis = 1))"
   ]
  },
  {
   "cell_type": "code",
   "execution_count": 51,
   "metadata": {},
   "outputs": [
    {
     "data": {
      "text/plain": [
       "1"
      ]
     },
     "execution_count": 51,
     "metadata": {},
     "output_type": "execute_result"
    }
   ],
   "source": [
    "# 這種方式也行\n",
    "np.min(a)"
   ]
  },
  {
   "cell_type": "code",
   "execution_count": 52,
   "metadata": {},
   "outputs": [
    {
     "data": {
      "text/plain": [
       "array([[1, 2, 3],\n",
       "       [4, 5, 6]])"
      ]
     },
     "execution_count": 52,
     "metadata": {},
     "output_type": "execute_result"
    }
   ],
   "source": [
    "a "
   ]
  },
  {
   "cell_type": "code",
   "execution_count": 53,
   "metadata": {},
   "outputs": [
    {
     "data": {
      "text/plain": [
       "21"
      ]
     },
     "execution_count": 53,
     "metadata": {},
     "output_type": "execute_result"
    }
   ],
   "source": [
    "a.sum() "
   ]
  },
  {
   "cell_type": "code",
   "execution_count": 54,
   "metadata": {},
   "outputs": [
    {
     "name": "stdout",
     "output_type": "stream",
     "text": [
      "[5 7 9]\n",
      "[ 6 15]\n"
     ]
    }
   ],
   "source": [
    "out(a.sum(axis = 0))\n",
    "# 沿著 row 加\n",
    "out(a.sum(axis = 1))\n",
    "# 沿著 column 加"
   ]
  },
  {
   "cell_type": "code",
   "execution_count": 55,
   "metadata": {},
   "outputs": [
    {
     "name": "stdout",
     "output_type": "stream",
     "text": [
      "[[1 2 3]\n",
      " [4 5 6]]\n",
      "[1 2 3 4 5 6]\n"
     ]
    }
   ],
   "source": [
    "a = np.array ([1, 2, 3])\n",
    "b = np.array ([4, 5, 6])\n",
    "\n",
    "# vertical stack\n",
    "vstack = np.vstack((a, b))\n",
    "out(vstack)\n",
    "\n",
    "hastack  = np.hstack((a, b))\n",
    "out(hastack)\n",
    "\n",
    "            "
   ]
  },
  {
   "cell_type": "code",
   "execution_count": 56,
   "metadata": {},
   "outputs": [],
   "source": [
    "## indexing "
   ]
  },
  {
   "cell_type": "code",
   "execution_count": 57,
   "metadata": {},
   "outputs": [
    {
     "data": {
      "text/plain": [
       "array([[1., 2., 3., 4.],\n",
       "       [5., 6., 7., 8.]])"
      ]
     },
     "execution_count": 57,
     "metadata": {},
     "output_type": "execute_result"
    }
   ],
   "source": [
    "tot_array = np.array ([[1, 2, 3, 4], [5, 6, 7, 8]])\n",
    "tot  = tot_array.astype(float)\n",
    "tot"
   ]
  },
  {
   "cell_type": "code",
   "execution_count": 58,
   "metadata": {},
   "outputs": [
    {
     "name": "stdout",
     "output_type": "stream",
     "text": [
      "[[False False False False]\n",
      " [ True  True  True  True]]\n",
      "[5. 6. 7. 8.]\n"
     ]
    }
   ],
   "source": [
    "out(tot>4)\n",
    "out(tot[tot > 4])"
   ]
  },
  {
   "cell_type": "code",
   "execution_count": 59,
   "metadata": {},
   "outputs": [
    {
     "data": {
      "text/plain": [
       "array([2, 3, 8])"
      ]
     },
     "execution_count": 59,
     "metadata": {},
     "output_type": "execute_result"
    }
   ],
   "source": [
    "a = np.array ([1, 2, 3, 4, 5, 6, 7, 8])\n",
    "a[[1, 2, -1]]  # 注意這邊是兩層括號"
   ]
  },
  {
   "cell_type": "code",
   "execution_count": 60,
   "metadata": {},
   "outputs": [
    {
     "data": {
      "text/plain": [
       "array([[1., 2., 3., 4.],\n",
       "       [5., 6., 7., 8.]])"
      ]
     },
     "execution_count": 60,
     "metadata": {},
     "output_type": "execute_result"
    }
   ],
   "source": [
    "## np.any\n",
    "tot"
   ]
  },
  {
   "cell_type": "code",
   "execution_count": 61,
   "metadata": {},
   "outputs": [
    {
     "data": {
      "text/plain": [
       "array([False,  True])"
      ]
     },
     "execution_count": 61,
     "metadata": {},
     "output_type": "execute_result"
    }
   ],
   "source": [
    "np.any(tot > 4, axis = 1)"
   ]
  },
  {
   "cell_type": "code",
   "execution_count": 62,
   "metadata": {},
   "outputs": [
    {
     "data": {
      "text/plain": [
       "array([ True,  True,  True,  True])"
      ]
     },
     "execution_count": 62,
     "metadata": {},
     "output_type": "execute_result"
    }
   ],
   "source": [
    "np.any(tot> 4, axis = 0)"
   ]
  },
  {
   "cell_type": "code",
   "execution_count": 63,
   "metadata": {},
   "outputs": [
    {
     "data": {
      "text/plain": [
       "array([False,  True])"
      ]
     },
     "execution_count": 63,
     "metadata": {},
     "output_type": "execute_result"
    }
   ],
   "source": [
    "np.all(tot > 4, axis = 1)"
   ]
  },
  {
   "cell_type": "code",
   "execution_count": 64,
   "metadata": {},
   "outputs": [
    {
     "data": {
      "text/plain": [
       "array([False, False, False, False])"
      ]
     },
     "execution_count": 64,
     "metadata": {},
     "output_type": "execute_result"
    }
   ],
   "source": [
    "np.all(tot>4, axis = 0)"
   ]
  },
  {
   "cell_type": "code",
   "execution_count": 65,
   "metadata": {},
   "outputs": [
    {
     "data": {
      "text/plain": [
       "array([[False, False, False, False],\n",
       "       [ True,  True, False, False]])"
      ]
     },
     "execution_count": 65,
     "metadata": {},
     "output_type": "execute_result"
    }
   ],
   "source": [
    "(( tot > 4) & (tot < 7 )) "
   ]
  },
  {
   "cell_type": "code",
   "execution_count": 66,
   "metadata": {},
   "outputs": [
    {
     "data": {
      "text/plain": [
       "array([[1., 2., 3., 4.],\n",
       "       [5., 6., 7., 8.]])"
      ]
     },
     "execution_count": 66,
     "metadata": {},
     "output_type": "execute_result"
    }
   ],
   "source": [
    "tot"
   ]
  },
  {
   "cell_type": "code",
   "execution_count": 67,
   "metadata": {},
   "outputs": [
    {
     "data": {
      "text/plain": [
       "array([5., 6.])"
      ]
     },
     "execution_count": 67,
     "metadata": {},
     "output_type": "execute_result"
    }
   ],
   "source": [
    "tot [(( tot > 4) & (tot < 7 ))] "
   ]
  },
  {
   "cell_type": "code",
   "execution_count": 68,
   "metadata": {},
   "outputs": [
    {
     "data": {
      "text/plain": [
       "array([[ True,  True,  True,  True],\n",
       "       [False, False,  True,  True]])"
      ]
     },
     "execution_count": 68,
     "metadata": {},
     "output_type": "execute_result"
    }
   ],
   "source": [
    "# reverse of the previous\n",
    "(~(( tot > 4) & (tot < 7 ))).astype(bool)\n",
    "\n"
   ]
  },
  {
   "cell_type": "code",
   "execution_count": 78,
   "metadata": {},
   "outputs": [
    {
     "data": {
      "text/html": [
       "<div>\n",
       "<style scoped>\n",
       "    .dataframe tbody tr th:only-of-type {\n",
       "        vertical-align: middle;\n",
       "    }\n",
       "\n",
       "    .dataframe tbody tr th {\n",
       "        vertical-align: top;\n",
       "    }\n",
       "\n",
       "    .dataframe thead th {\n",
       "        text-align: right;\n",
       "    }\n",
       "</style>\n",
       "<table border=\"1\" class=\"dataframe\">\n",
       "  <thead>\n",
       "    <tr style=\"text-align: right;\">\n",
       "      <th></th>\n",
       "      <th>#</th>\n",
       "      <th>Name</th>\n",
       "      <th>Type 1</th>\n",
       "      <th>Type 2</th>\n",
       "      <th>HP</th>\n",
       "      <th>Attack</th>\n",
       "      <th>Defense</th>\n",
       "      <th>Sp. Atk</th>\n",
       "      <th>Sp. Def</th>\n",
       "      <th>Speed</th>\n",
       "      <th>Generation</th>\n",
       "      <th>Legendary</th>\n",
       "    </tr>\n",
       "  </thead>\n",
       "  <tbody>\n",
       "    <tr>\n",
       "      <th>0</th>\n",
       "      <td>1</td>\n",
       "      <td>Bulbasaur</td>\n",
       "      <td>Grass</td>\n",
       "      <td>Poison</td>\n",
       "      <td>45</td>\n",
       "      <td>49</td>\n",
       "      <td>49</td>\n",
       "      <td>65</td>\n",
       "      <td>65</td>\n",
       "      <td>45</td>\n",
       "      <td>1</td>\n",
       "      <td>False</td>\n",
       "    </tr>\n",
       "    <tr>\n",
       "      <th>1</th>\n",
       "      <td>2</td>\n",
       "      <td>Ivysaur</td>\n",
       "      <td>Grass</td>\n",
       "      <td>Poison</td>\n",
       "      <td>60</td>\n",
       "      <td>62</td>\n",
       "      <td>63</td>\n",
       "      <td>80</td>\n",
       "      <td>80</td>\n",
       "      <td>60</td>\n",
       "      <td>1</td>\n",
       "      <td>False</td>\n",
       "    </tr>\n",
       "    <tr>\n",
       "      <th>2</th>\n",
       "      <td>3</td>\n",
       "      <td>Venusaur</td>\n",
       "      <td>Grass</td>\n",
       "      <td>Poison</td>\n",
       "      <td>80</td>\n",
       "      <td>82</td>\n",
       "      <td>83</td>\n",
       "      <td>100</td>\n",
       "      <td>100</td>\n",
       "      <td>80</td>\n",
       "      <td>1</td>\n",
       "      <td>False</td>\n",
       "    </tr>\n",
       "    <tr>\n",
       "      <th>3</th>\n",
       "      <td>3</td>\n",
       "      <td>VenusaurMega Venusaur</td>\n",
       "      <td>Grass</td>\n",
       "      <td>Poison</td>\n",
       "      <td>80</td>\n",
       "      <td>100</td>\n",
       "      <td>123</td>\n",
       "      <td>122</td>\n",
       "      <td>120</td>\n",
       "      <td>80</td>\n",
       "      <td>1</td>\n",
       "      <td>False</td>\n",
       "    </tr>\n",
       "    <tr>\n",
       "      <th>4</th>\n",
       "      <td>4</td>\n",
       "      <td>Charmander</td>\n",
       "      <td>Fire</td>\n",
       "      <td>NaN</td>\n",
       "      <td>39</td>\n",
       "      <td>52</td>\n",
       "      <td>43</td>\n",
       "      <td>60</td>\n",
       "      <td>50</td>\n",
       "      <td>65</td>\n",
       "      <td>1</td>\n",
       "      <td>False</td>\n",
       "    </tr>\n",
       "  </tbody>\n",
       "</table>\n",
       "</div>"
      ],
      "text/plain": [
       "   #                   Name Type 1  Type 2  HP  Attack  Defense  Sp. Atk  \\\n",
       "0  1              Bulbasaur  Grass  Poison  45      49       49       65   \n",
       "1  2                Ivysaur  Grass  Poison  60      62       63       80   \n",
       "2  3               Venusaur  Grass  Poison  80      82       83      100   \n",
       "3  3  VenusaurMega Venusaur  Grass  Poison  80     100      123      122   \n",
       "4  4             Charmander   Fire     NaN  39      52       43       60   \n",
       "\n",
       "   Sp. Def  Speed  Generation  Legendary  \n",
       "0       65     45           1      False  \n",
       "1       80     60           1      False  \n",
       "2      100     80           1      False  \n",
       "3      120     80           1      False  \n",
       "4       50     65           1      False  "
      ]
     },
     "execution_count": 78,
     "metadata": {},
     "output_type": "execute_result"
    }
   ],
   "source": [
    "df = pd.read_csv(\"pokemon_data.csv\")\n",
    "df.head()"
   ]
  },
  {
   "cell_type": "code",
   "execution_count": 79,
   "metadata": {},
   "outputs": [
    {
     "data": {
      "text/plain": [
       "Index(['#', 'Name', 'Type 1', 'Type 2', 'HP', 'Attack', 'Defense', 'Sp. Atk',\n",
       "       'Sp. Def', 'Speed', 'Generation', 'Legendary'],\n",
       "      dtype='object')"
      ]
     },
     "execution_count": 79,
     "metadata": {},
     "output_type": "execute_result"
    }
   ],
   "source": [
    "\n",
    "df.columns"
   ]
  },
  {
   "cell_type": "code",
   "execution_count": 80,
   "metadata": {},
   "outputs": [
    {
     "data": {
      "text/html": [
       "<div>\n",
       "<style scoped>\n",
       "    .dataframe tbody tr th:only-of-type {\n",
       "        vertical-align: middle;\n",
       "    }\n",
       "\n",
       "    .dataframe tbody tr th {\n",
       "        vertical-align: top;\n",
       "    }\n",
       "\n",
       "    .dataframe thead th {\n",
       "        text-align: right;\n",
       "    }\n",
       "</style>\n",
       "<table border=\"1\" class=\"dataframe\">\n",
       "  <thead>\n",
       "    <tr style=\"text-align: right;\">\n",
       "      <th></th>\n",
       "      <th>Name</th>\n",
       "      <th>Type 1</th>\n",
       "      <th>Type 2</th>\n",
       "    </tr>\n",
       "  </thead>\n",
       "  <tbody>\n",
       "    <tr>\n",
       "      <th>0</th>\n",
       "      <td>Bulbasaur</td>\n",
       "      <td>Grass</td>\n",
       "      <td>Poison</td>\n",
       "    </tr>\n",
       "    <tr>\n",
       "      <th>1</th>\n",
       "      <td>Ivysaur</td>\n",
       "      <td>Grass</td>\n",
       "      <td>Poison</td>\n",
       "    </tr>\n",
       "    <tr>\n",
       "      <th>2</th>\n",
       "      <td>Venusaur</td>\n",
       "      <td>Grass</td>\n",
       "      <td>Poison</td>\n",
       "    </tr>\n",
       "    <tr>\n",
       "      <th>3</th>\n",
       "      <td>VenusaurMega Venusaur</td>\n",
       "      <td>Grass</td>\n",
       "      <td>Poison</td>\n",
       "    </tr>\n",
       "    <tr>\n",
       "      <th>4</th>\n",
       "      <td>Charmander</td>\n",
       "      <td>Fire</td>\n",
       "      <td>NaN</td>\n",
       "    </tr>\n",
       "    <tr>\n",
       "      <th>5</th>\n",
       "      <td>Charmeleon</td>\n",
       "      <td>Fire</td>\n",
       "      <td>NaN</td>\n",
       "    </tr>\n",
       "    <tr>\n",
       "      <th>6</th>\n",
       "      <td>Charizard</td>\n",
       "      <td>Fire</td>\n",
       "      <td>Flying</td>\n",
       "    </tr>\n",
       "    <tr>\n",
       "      <th>7</th>\n",
       "      <td>CharizardMega Charizard X</td>\n",
       "      <td>Fire</td>\n",
       "      <td>Dragon</td>\n",
       "    </tr>\n",
       "    <tr>\n",
       "      <th>8</th>\n",
       "      <td>CharizardMega Charizard Y</td>\n",
       "      <td>Fire</td>\n",
       "      <td>Flying</td>\n",
       "    </tr>\n",
       "    <tr>\n",
       "      <th>9</th>\n",
       "      <td>Squirtle</td>\n",
       "      <td>Water</td>\n",
       "      <td>NaN</td>\n",
       "    </tr>\n",
       "  </tbody>\n",
       "</table>\n",
       "</div>"
      ],
      "text/plain": [
       "                        Name Type 1  Type 2\n",
       "0                  Bulbasaur  Grass  Poison\n",
       "1                    Ivysaur  Grass  Poison\n",
       "2                   Venusaur  Grass  Poison\n",
       "3      VenusaurMega Venusaur  Grass  Poison\n",
       "4                 Charmander   Fire     NaN\n",
       "5                 Charmeleon   Fire     NaN\n",
       "6                  Charizard   Fire  Flying\n",
       "7  CharizardMega Charizard X   Fire  Dragon\n",
       "8  CharizardMega Charizard Y   Fire  Flying\n",
       "9                   Squirtle  Water     NaN"
      ]
     },
     "execution_count": 80,
     "metadata": {},
     "output_type": "execute_result"
    }
   ],
   "source": [
    "df[[\"Name\", \"Type 1\", \"Type 2\"]].head(10)"
   ]
  },
  {
   "cell_type": "code",
   "execution_count": 84,
   "metadata": {},
   "outputs": [
    {
     "data": {
      "text/plain": [
       "#                     1\n",
       "Name          Bulbasaur\n",
       "Type 1            Grass\n",
       "Type 2           Poison\n",
       "HP                   45\n",
       "Attack               49\n",
       "Defense              49\n",
       "Sp. Atk              65\n",
       "Sp. Def              65\n",
       "Speed                45\n",
       "Generation            1\n",
       "Legendary         False\n",
       "Name: 0, dtype: object"
      ]
     },
     "execution_count": 84,
     "metadata": {},
     "output_type": "execute_result"
    }
   ],
   "source": [
    "## 針對 特定 row \n",
    "df.iloc[0] "
   ]
  },
  {
   "cell_type": "code",
   "execution_count": 2,
   "metadata": {},
   "outputs": [],
   "source": [
    "# np 中有幾個括號，就代表幾維維\n",
    "import numpy as np\n"
   ]
  },
  {
   "cell_type": "code",
   "execution_count": 8,
   "metadata": {},
   "outputs": [
    {
     "name": "stdout",
     "output_type": "stream",
     "text": [
      "[2 4 6]\n"
     ]
    }
   ],
   "source": [
    "arr = np.array([1, 2, 3, 4, 5, 6])\n",
    "\n",
    "print(arr[1: 6: 2])   # 最後可以設定sstep "
   ]
  },
  {
   "cell_type": "code",
   "execution_count": 10,
   "metadata": {},
   "outputs": [
    {
     "name": "stdout",
     "output_type": "stream",
     "text": [
      "[[2 3 4]\n",
      " [7 8 9]]\n"
     ]
    }
   ],
   "source": [
    "arr = np.array([[1, 2, 3, 4, 5], [6, 7, 8, 9, 10]])\n",
    "print(arr[0:2, 1:4])\n"
   ]
  },
  {
   "cell_type": "code",
   "execution_count": 12,
   "metadata": {},
   "outputs": [
    {
     "data": {
      "text/plain": [
       "array([[ 1.,  2.,  3.,  4.,  5.],\n",
       "       [ 6.,  7.,  8.,  9., 10.]], dtype=float32)"
      ]
     },
     "execution_count": 12,
     "metadata": {},
     "output_type": "execute_result"
    }
   ],
   "source": [
    "# f: float\n",
    "# d: double\n",
    "# i: int\n",
    "# b: boolean\n",
    "# S: string\n",
    "\n",
    "\n",
    "\n",
    "newarr = arr.astype('f')\n",
    "newarr\n"
   ]
  },
  {
   "cell_type": "code",
   "execution_count": 14,
   "metadata": {},
   "outputs": [
    {
     "name": "stdout",
     "output_type": "stream",
     "text": [
      "1\n",
      "2\n",
      "3\n",
      "4\n",
      "5\n",
      "6\n",
      "7\n",
      "8\n",
      "9\n",
      "10\n"
     ]
    }
   ],
   "source": [
    "# 把多維的東西全爸打印出來 \n",
    "\n",
    "\n",
    "arr= np.array([[1, 2, 3, 4, 5], [6, 7, 8, 9, 10]])\n",
    "for x in arr:\n",
    "    for y in x:\n",
    "        print(y)\n",
    "    "
   ]
  },
  {
   "cell_type": "code",
   "execution_count": 15,
   "metadata": {},
   "outputs": [
    {
     "name": "stdout",
     "output_type": "stream",
     "text": [
      "1\n",
      "2\n",
      "3\n",
      "4\n",
      "5\n",
      "6\n",
      "7\n",
      "8\n"
     ]
    }
   ],
   "source": [
    "# nditer: 高維情況 \n",
    "# n dimensional iterator \n",
    "\n",
    "\n",
    "\n",
    "arr = np.array([[[1, 2], [3, 4]], [[5, 6], [7, 8]]])\n",
    "\n",
    "for x in np.nditer(arr):\n",
    "  print(x)"
   ]
  },
  {
   "cell_type": "code",
   "execution_count": 17,
   "metadata": {},
   "outputs": [
    {
     "name": "stdout",
     "output_type": "stream",
     "text": [
      "(0, 0) 1\n",
      "(0, 1) 2\n",
      "(0, 2) 3\n",
      "(0, 3) 4\n",
      "(1, 0) 5\n",
      "(1, 1) 6\n",
      "(1, 2) 7\n",
      "(1, 3) 8\n"
     ]
    }
   ],
   "source": [
    "# index + value in matrix \n",
    "# ndenumerate\n",
    "\n",
    "arr = np.array([[1, 2, 3, 4], [5, 6, 7, 8]])\n",
    "\n",
    "for idx, x in np.ndenumerate(arr):\n",
    "  print(idx, x)"
   ]
  },
  {
   "cell_type": "code",
   "execution_count": 19,
   "metadata": {},
   "outputs": [],
   "source": [
    "## 操作array\n",
    "array1 = np.array([[1, 2, 3], [4, 5, 6]])\n",
    "array2 = np.array([[5, 6, 7], [8, 9, 10]])"
   ]
  },
  {
   "cell_type": "code",
   "execution_count": 24,
   "metadata": {},
   "outputs": [
    {
     "data": {
      "text/plain": [
       "array([[ 6,  8, 10],\n",
       "       [12, 14, 16]])"
      ]
     },
     "execution_count": 24,
     "metadata": {},
     "output_type": "execute_result"
    }
   ],
   "source": [
    "arrTot = np.add(array1, array2)\n",
    "arrTot"
   ]
  },
  {
   "cell_type": "code",
   "execution_count": 28,
   "metadata": {},
   "outputs": [],
   "source": [
    "# compare the two follwoings "
   ]
  },
  {
   "cell_type": "code",
   "execution_count": 27,
   "metadata": {},
   "outputs": [
    {
     "data": {
      "text/plain": [
       "array([[ 1,  2,  3],\n",
       "       [ 4,  5,  6],\n",
       "       [ 5,  6,  7],\n",
       "       [ 8,  9, 10]])"
      ]
     },
     "execution_count": 27,
     "metadata": {},
     "output_type": "execute_result"
    }
   ],
   "source": [
    "arr12 = np.concatenate((array1, array2), axis = 0)\n",
    "arr12\n",
    "\n",
    "\n",
    "# 保持原始 2 dim "
   ]
  },
  {
   "cell_type": "code",
   "execution_count": 29,
   "metadata": {},
   "outputs": [
    {
     "data": {
      "text/plain": [
       "array([[[ 1,  2,  3],\n",
       "        [ 5,  6,  7]],\n",
       "\n",
       "       [[ 4,  5,  6],\n",
       "        [ 8,  9, 10]]])"
      ]
     },
     "execution_count": 29,
     "metadata": {},
     "output_type": "execute_result"
    }
   ],
   "source": [
    "arrstack = np.stack((array1, array2), axis = 1)\n",
    "arrstack\n",
    "\n",
    "# 中間會有 空格， 因為直接把原本的東西 stack 起來，兩個 matrix 之間是獨立的，只是用一個 [] 把他們硬包起來」"
   ]
  },
  {
   "cell_type": "code",
   "execution_count": 35,
   "metadata": {},
   "outputs": [
    {
     "data": {
      "text/plain": [
       "[array([[[1, 2, 3]],\n",
       " \n",
       "        [[4, 5, 6]]]),\n",
       " array([[[ 5,  6,  7]],\n",
       " \n",
       "        [[ 8,  9, 10]]])]"
      ]
     },
     "execution_count": 35,
     "metadata": {},
     "output_type": "execute_result"
    }
   ],
   "source": [
    "# 查： gpt 跟我說他 split 的規則 \n",
    "\n",
    "split = np.array_split(arrstack, 2, axis = 1)\n",
    "split"
   ]
  },
  {
   "cell_type": "code",
   "execution_count": 36,
   "metadata": {},
   "outputs": [
    {
     "data": {
      "text/plain": [
       "[array([[[1, 2, 3],\n",
       "         [5, 6, 7]]]),\n",
       " array([[[ 4,  5,  6],\n",
       "         [ 8,  9, 10]]])]"
      ]
     },
     "execution_count": 36,
     "metadata": {},
     "output_type": "execute_result"
    }
   ],
   "source": [
    "\n",
    "split2 = np.array_split(arrstack, 2, axis = 0)\n",
    "split2"
   ]
  },
  {
   "cell_type": "code",
   "execution_count": 38,
   "metadata": {},
   "outputs": [
    {
     "data": {
      "text/plain": [
       "(array([3, 5, 6]),)"
      ]
     },
     "execution_count": 38,
     "metadata": {},
     "output_type": "execute_result"
    }
   ],
   "source": [
    "## Search \n",
    "# arr == 4 是一個 value, 會回傳 位置 \n",
    "\n",
    "\n",
    "arr = np.array([1, 2, 3, 4, 5, 4, 4])\n",
    "x = np.where(arr == 4)\n",
    "x\n",
    "\n"
   ]
  },
  {
   "cell_type": "code",
   "execution_count": 43,
   "metadata": {},
   "outputs": [
    {
     "name": "stdout",
     "output_type": "stream",
     "text": [
      "2\n",
      "1\n",
      "(array([1]),)\n"
     ]
    }
   ],
   "source": [
    "\n",
    "arr = np.array([6, 7, 8, 9])\n",
    "x = np.searchsorted(arr, 7, side='right')\n",
    "print(x)\n",
    "\n",
    "y=  np.searchsorted(arr, 7, side='left')\n",
    "print(y)\n",
    "\n",
    "z = np.where(arr == 7)\n",
    "print(z)"
   ]
  },
  {
   "cell_type": "code",
   "execution_count": 52,
   "metadata": {},
   "outputs": [
    {
     "name": "stdout",
     "output_type": "stream",
     "text": [
      "[0 1 2 3]\n",
      "['apple' 'banana' 'cherry']\n",
      "[[1 2 3]\n",
      " [4 5 6]]\n",
      "[[4 5 6]\n",
      " [1 2 3]]\n"
     ]
    }
   ],
   "source": [
    "# Sort \n",
    "\n",
    "\n",
    "arr = np.array([3, 2, 0, 1])\n",
    "print(np.sort(arr))\n",
    "\n",
    "arr2 = np.array(['banana', 'cherry', 'apple'])\n",
    "print(np.sort(arr2))\n",
    "\n",
    "arr3 = np.array([[3, 1, 2], [5, 4, 6]])\n",
    "print(np.sort(arr3))\n",
    "\n",
    "\n",
    "arr4 = np.array([[4, 6, 5], [3, 1, 2]])\n",
    "print(np.sort(arr4))\n",
    "\n",
    "# sort only by one dimentsional "
   ]
  },
  {
   "cell_type": "code",
   "execution_count": 53,
   "metadata": {},
   "outputs": [],
   "source": [
    "# Create Boolean Matrix "
   ]
  },
  {
   "cell_type": "code",
   "execution_count": 57,
   "metadata": {},
   "outputs": [
    {
     "name": "stdout",
     "output_type": "stream",
     "text": [
      "[False False  True  True]\n",
      "[43 44]\n"
     ]
    }
   ],
   "source": [
    "arr = np.array([41, 42, 43, 44])\n",
    "filter_arr = arr > 42    # [False False True True]\n",
    "\n",
    "newarr = arr[filter_arr]\n",
    "print(filter_arr)\n",
    "print(newarr)\n"
   ]
  },
  {
   "cell_type": "code",
   "execution_count": 58,
   "metadata": {},
   "outputs": [],
   "source": [
    "# random\n",
    "from numpy import random"
   ]
  },
  {
   "cell_type": "code",
   "execution_count": 60,
   "metadata": {},
   "outputs": [
    {
     "data": {
      "text/plain": [
       "80"
      ]
     },
     "execution_count": 60,
     "metadata": {},
     "output_type": "execute_result"
    }
   ],
   "source": [
    "# random int \n",
    "\n",
    "x = random.randint(100)\n",
    "x"
   ]
  },
  {
   "cell_type": "code",
   "execution_count": 62,
   "metadata": {},
   "outputs": [
    {
     "data": {
      "text/plain": [
       "array([[47, 59, 50, 16, 57],\n",
       "       [57, 67, 43, 76, 92],\n",
       "       [55, 40,  7, 87, 75]])"
      ]
     },
     "execution_count": 62,
     "metadata": {},
     "output_type": "execute_result"
    }
   ],
   "source": [
    "x = random.randint(100, size = (3, 5))\n",
    "x"
   ]
  },
  {
   "cell_type": "code",
   "execution_count": 63,
   "metadata": {},
   "outputs": [
    {
     "data": {
      "text/plain": [
       "0.07250368002086283"
      ]
     },
     "execution_count": 63,
     "metadata": {},
     "output_type": "execute_result"
    }
   ],
   "source": [
    "# Float \n",
    "\n",
    "y = random.rand()\n",
    "y"
   ]
  },
  {
   "cell_type": "code",
   "execution_count": 70,
   "metadata": {},
   "outputs": [
    {
     "data": {
      "text/plain": [
       "array([[0.58225757, 0.64239667, 0.22081135, 0.42823659, 0.61861146],\n",
       "       [0.14644812, 0.98107014, 0.74428485, 0.93634049, 0.76674589]])"
      ]
     },
     "execution_count": 70,
     "metadata": {},
     "output_type": "execute_result"
    }
   ],
   "source": [
    "y = random.rand(2,5)\n",
    "y\n"
   ]
  },
  {
   "cell_type": "code",
   "execution_count": 71,
   "metadata": {},
   "outputs": [],
   "source": [
    "# randint (不可超過某int)\n",
    "\n",
    "# random.rand ( 共要生成 多少個數 )\n",
    "\n"
   ]
  },
  {
   "cell_type": "code",
   "execution_count": 80,
   "metadata": {},
   "outputs": [
    {
     "data": {
      "text/plain": [
       "1"
      ]
     },
     "execution_count": 80,
     "metadata": {},
     "output_type": "execute_result"
    }
   ],
   "source": [
    "\n",
    "# Choices  : 隨機選一個，從指定的範圍內 \n",
    "\n",
    "x = random.choice([1, 4, 2, 6])\n",
    "x\n"
   ]
  },
  {
   "cell_type": "code",
   "execution_count": 82,
   "metadata": {},
   "outputs": [
    {
     "data": {
      "text/plain": [
       "array([[7, 3, 7, 9, 7],\n",
       "       [9, 3, 7, 7, 7],\n",
       "       [5, 9, 3, 7, 9]])"
      ]
     },
     "execution_count": 82,
     "metadata": {},
     "output_type": "execute_result"
    }
   ],
   "source": [
    "x = random.choice([3, 5, 7, 9], size=(3, 5))    # 由3、5、7、9隨機組成的3*5陣列\n",
    "\n",
    "x"
   ]
  },
  {
   "cell_type": "code",
   "execution_count": 84,
   "metadata": {},
   "outputs": [
    {
     "data": {
      "text/plain": [
       "array([7, 5, 7, 5, 7, 5, 3, 5, 5, 7, 7, 7, 5, 5, 7, 7, 5, 7, 5, 3, 7, 5,\n",
       "       7, 7, 7, 5, 7, 7, 7, 7, 5, 7, 5, 7, 5, 7, 7, 7, 7, 7, 5, 7, 7, 5,\n",
       "       5, 5, 3, 7, 7, 7, 7, 7, 5, 7, 5, 7, 7, 7, 7, 7, 7, 7, 7, 7, 7, 7,\n",
       "       5, 7, 7, 7, 7, 7, 5, 7, 7, 5, 5, 3, 7, 7, 7, 7, 7, 5, 7, 7, 7, 3,\n",
       "       7, 7, 7, 7, 7, 5, 5, 7, 7, 5, 5, 3])"
      ]
     },
     "execution_count": 84,
     "metadata": {},
     "output_type": "execute_result"
    }
   ],
   "source": [
    "# Probability distribution\n",
    "\n",
    "\n",
    "x = random.choice([3, 5, 7, 9], p=[0.1, 0.3, 0.6, 0.0], size=(100))\n",
    "x"
   ]
  },
  {
   "cell_type": "code",
   "execution_count": 94,
   "metadata": {},
   "outputs": [
    {
     "name": "stdout",
     "output_type": "stream",
     "text": [
      "[1 3 2 5 4]\n",
      "None\n"
     ]
    }
   ],
   "source": [
    "# shuffle 就是 sort 的相反 \n",
    "# shuffle 可以想像就是把原本 array 洗牌 \n",
    "\n",
    "arr = np.array([1, 2, 3, 4, 5])\n",
    "shuff = random.shuffle(arr)\n",
    "print(arr)\n",
    "print(shuff)\n",
    "\n",
    "# sorte = np.sort(arr)\n",
    "# print(sorte)"
   ]
  },
  {
   "cell_type": "code",
   "execution_count": 95,
   "metadata": {},
   "outputs": [
    {
     "name": "stdout",
     "output_type": "stream",
     "text": [
      "[4 1 2 5 3]\n",
      "[1 2 3 4 5]\n"
     ]
    }
   ],
   "source": [
    "arr = np.array([1, 2, 3, 4, 5])\n",
    "perm = random.permutation(arr)\n",
    "print(perm)\n",
    "# perm 之後的會改變\n",
    "\n",
    "\n",
    "print(arr)\n",
    "# 原不會改變 "
   ]
  },
  {
   "cell_type": "code",
   "execution_count": 98,
   "metadata": {},
   "outputs": [
    {
     "name": "stdout",
     "output_type": "stream",
     "text": [
      "[[-1.05998532 -0.24491146 -1.6824386 ]\n",
      " [ 0.84819835 -0.22138321  0.51271247]]\n"
     ]
    }
   ],
   "source": [
    "# Normal dist \n",
    "\"\"\" \n",
    "loc: mean \n",
    "scale: std \n",
    "size: 2*3 matrix \n",
    "\"\"\"\n",
    "\n",
    "\n",
    "x = random.normal(size=(2, 3))\n",
    "\n",
    "print(x)\n"
   ]
  },
  {
   "cell_type": "code",
   "execution_count": 99,
   "metadata": {},
   "outputs": [
    {
     "name": "stdout",
     "output_type": "stream",
     "text": [
      "[[ 5.65748661  1.62567523  2.07811547]\n",
      " [ 1.33311029  0.95759245 -1.1214438 ]]\n"
     ]
    }
   ],
   "source": [
    "x = random.normal(loc=1, scale=2, size=(2, 3))\n",
    "\n",
    "print(x)"
   ]
  },
  {
   "cell_type": "code",
   "execution_count": 100,
   "metadata": {},
   "outputs": [
    {
     "name": "stderr",
     "output_type": "stream",
     "text": [
      "/var/folders/kz/g7fm_pz11tv5kbttdpy6thc40000gn/T/ipykernel_51703/4294489327.py:4: UserWarning: \n",
      "\n",
      "`distplot` is a deprecated function and will be removed in seaborn v0.14.0.\n",
      "\n",
      "Please adapt your code to use either `displot` (a figure-level function with\n",
      "similar flexibility) or `kdeplot` (an axes-level function for kernel density plots).\n",
      "\n",
      "For a guide to updating your code to use the new functions, please see\n",
      "https://gist.github.com/mwaskom/de44147ed2974457ad6372750bbe5751\n",
      "\n",
      "  sns.distplot(random.normal(size=1000), hist=False)\n"
     ]
    },
    {
     "data": {
      "image/png": "[encoded data removed]",
      "text/plain": [
       "<Figure size 640x480 with 1 Axes>"
      ]
     },
     "metadata": {},
     "output_type": "display_data"
    }
   ],
   "source": [
    "\n",
    "import matplotlib.pyplot as plt\n",
    "import seaborn as sns\n",
    "\n",
    "sns.distplot(random.normal(size=1000), hist=False)\n",
    "\n",
    "plt.show()"
   ]
  },
  {
   "cell_type": "code",
   "execution_count": 102,
   "metadata": {},
   "outputs": [
    {
     "name": "stdout",
     "output_type": "stream",
     "text": [
      "[6 8 10 12]\n"
     ]
    }
   ],
   "source": [
    "# ufunc : implement vectorization in NumPy which is way faster than iterating over elements.\n"
   ]
  },
  {
   "cell_type": "code",
   "execution_count": 103,
   "metadata": {},
   "outputs": [
    {
     "name": "stdout",
     "output_type": "stream",
     "text": [
      "[5, 7, 9, 11]\n"
     ]
    }
   ],
   "source": [
    "# without ufunc \n",
    "\n",
    "x = [1, 2, 3, 4]\n",
    "y = [4, 5, 6, 7]\n",
    "z = []\n",
    "\n",
    "for i, j in zip(x, y):\n",
    "  z.append(i + j)\n",
    "print(z)"
   ]
  },
  {
   "cell_type": "code",
   "execution_count": 106,
   "metadata": {},
   "outputs": [
    {
     "name": "stdout",
     "output_type": "stream",
     "text": [
      "[ 5  7  9 11]\n",
      "[-3 -3 -3 -3]\n"
     ]
    }
   ],
   "source": [
    "def out(x):\n",
    "  print(x)\n",
    "x = [1, 2, 3, 4]\n",
    "y = [4, 5, 6, 7]\n",
    "z = np.add(x, y)\n",
    "out(z)\n",
    "s= np.subtract(x, y)\n",
    "out(s)\n"
   ]
  },
  {
   "cell_type": "code",
   "execution_count": 107,
   "metadata": {},
   "outputs": [
    {
     "name": "stdout",
     "output_type": "stream",
     "text": [
      "[6 8 10 12]\n"
     ]
    }
   ],
   "source": [
    "# 使用 frompyfunc(<函數名稱>, <輸入參數(數組)的數量>, <輸出數組的數量>)\n",
    "\"\"\" \n",
    "The frompyfunc() method takes the following arguments:\n",
    "\n",
    "function - the name of the function.\n",
    "inputs - the number of input arguments (arrays).\n",
    "outputs - the number of output arrays.\n",
    "\n",
    "\"\"\" \n",
    "\n",
    "\n",
    "def myadd(x, y):\n",
    "  return x+y\n",
    "\n",
    "myadd = np.frompyfunc(myadd, 2, 1)  # input 2 arrays, output 1 arrays \n",
    "\n",
    "print(myadd([1, 2, 3, 4], [5, 6, 7, 8]))"
   ]
  },
  {
   "cell_type": "code",
   "execution_count": 111,
   "metadata": {},
   "outputs": [
    {
     "name": "stdout",
     "output_type": "stream",
     "text": [
      "<class 'numpy.ufunc'>\n",
      "<class 'numpy.ufunc'>\n",
      "<class 'numpy._ArrayFunctionDispatcher'>\n"
     ]
    }
   ],
   "source": [
    "print(type(np.add))\n",
    "print(type(myadd))\n",
    "print(type(np.concatenate))\n"
   ]
  },
  {
   "cell_type": "code",
   "execution_count": 112,
   "metadata": {},
   "outputs": [],
   "source": [
    "arr1 = np.array([10, 20, 30, 40, 50, 60])\n",
    "arr2 = np.array([20, 21, 22, 23, 24, 25])\n"
   ]
  },
  {
   "cell_type": "code",
   "execution_count": 114,
   "metadata": {},
   "outputs": [
    {
     "name": "stdout",
     "output_type": "stream",
     "text": [
      "[ 200  420  660  920 1200 1500]\n",
      "[0.5        0.95238095 1.36363636 1.73913043 2.08333333 2.4       ]\n"
     ]
    }
   ],
   "source": [
    "newarr = np.multiply(arr1, arr2)\n",
    "\n",
    "print(newarr)\n",
    "\n",
    "new = np.divide(arr1, arr2)\n",
    "\n",
    "print(new)"
   ]
  },
  {
   "cell_type": "code",
   "execution_count": 118,
   "metadata": {},
   "outputs": [
    {
     "name": "stdout",
     "output_type": "stream",
     "text": [
      "[ 7766279631452241920 -5135277853620830208  8433224401192747008\n",
      "                    0  8120319428677074944  6213841585864441856]\n"
     ]
    }
   ],
   "source": [
    "#  first array to the power of the values of the second array\n",
    "\n",
    "newarr = np.power(arr1, arr2)\n",
    "print(newarr)"
   ]
  },
  {
   "cell_type": "code",
   "execution_count": 121,
   "metadata": {},
   "outputs": [
    {
     "name": "stdout",
     "output_type": "stream",
     "text": [
      "[10 20 30 40 50 60]\n",
      "[20 21 22 23 24 25]\n"
     ]
    },
    {
     "data": {
      "text/plain": [
       "(None, None)"
      ]
     },
     "execution_count": 121,
     "metadata": {},
     "output_type": "execute_result"
    }
   ],
   "source": [
    "out(arr1), out(arr2)"
   ]
  },
  {
   "cell_type": "code",
   "execution_count": 124,
   "metadata": {},
   "outputs": [
    {
     "name": "stdout",
     "output_type": "stream",
     "text": [
      "[10 20  8 17  2 10]\n"
     ]
    }
   ],
   "source": [
    "# mod , remainder 效果一樣 \n",
    "\n",
    "\n",
    "newarr = np.mod(arr1, arr2)\n",
    "\n",
    "print(newarr)"
   ]
  },
  {
   "cell_type": "code",
   "execution_count": 125,
   "metadata": {},
   "outputs": [
    {
     "name": "stdout",
     "output_type": "stream",
     "text": [
      "[10 20  8 17  2 10]\n"
     ]
    }
   ],
   "source": [
    "newarr = np.remainder(arr1, arr2)\n",
    "\n",
    "print(newarr)"
   ]
  },
  {
   "cell_type": "code",
   "execution_count": 127,
   "metadata": {},
   "outputs": [
    {
     "name": "stdout",
     "output_type": "stream",
     "text": [
      "[10 20 30 40 50 60]\n",
      "[20 21 22 23 24 25]\n",
      "(array([0, 0, 1, 1, 2, 2]), array([10, 20,  8, 17,  2, 10]))\n"
     ]
    }
   ],
   "source": [
    "# np.divmod: quotient and mod \n",
    "out(arr1), out(arr2)\n",
    "\n",
    "newarr = np.divmod(arr1, arr2)\n",
    "\n",
    "print(newarr)"
   ]
  },
  {
   "cell_type": "code",
   "execution_count": 128,
   "metadata": {},
   "outputs": [
    {
     "name": "stdout",
     "output_type": "stream",
     "text": [
      "[1 2 1 2 3 4]\n"
     ]
    }
   ],
   "source": [
    "# abs \n",
    "\n",
    "\n",
    "\n",
    "arr = np.array([-1, -2, 1, 2, 3, -4])\n",
    "\n",
    "newarr = np.absolute(arr)\n",
    "\n",
    "print(newarr)"
   ]
  },
  {
   "cell_type": "code",
   "execution_count": 132,
   "metadata": {},
   "outputs": [
    {
     "data": {
      "text/plain": [
       "array([-3.,  3.])"
      ]
     },
     "execution_count": 132,
     "metadata": {},
     "output_type": "execute_result"
    }
   ],
   "source": [
    "# trunc: 捨棄後面小數部分 \n",
    "\n",
    "arr = np.trunc([-3.1666, 3.6667])\n",
    "arr"
   ]
  },
  {
   "cell_type": "code",
   "execution_count": 134,
   "metadata": {},
   "outputs": [
    {
     "data": {
      "text/plain": [
       "3.17"
      ]
     },
     "execution_count": 134,
     "metadata": {},
     "output_type": "execute_result"
    }
   ],
   "source": [
    "# 四捨五入 \n",
    "arr = np.around(3.1666, 2)\n",
    "arr\n"
   ]
  },
  {
   "cell_type": "code",
   "execution_count": 137,
   "metadata": {},
   "outputs": [
    {
     "data": {
      "text/plain": [
       "array([-4.,  3.])"
      ]
     },
     "execution_count": 137,
     "metadata": {},
     "output_type": "execute_result"
    }
   ],
   "source": [
    "# 無條件捨去，出來的值一定會比較小\n",
    "\n",
    "arr = np.floor([-3.1666, 3.6667])\n",
    "arr"
   ]
  },
  {
   "cell_type": "code",
   "execution_count": 140,
   "metadata": {},
   "outputs": [
    {
     "data": {
      "text/plain": [
       "array([-3.,  4.])"
      ]
     },
     "execution_count": 140,
     "metadata": {},
     "output_type": "execute_result"
    }
   ],
   "source": [
    "\n",
    "# Ceiling \n",
    "\n",
    "arr = np.ceil([-3.1666, 3.6667])\n",
    "arr"
   ]
  },
  {
   "cell_type": "code",
   "execution_count": 143,
   "metadata": {},
   "outputs": [
    {
     "data": {
      "text/plain": [
       "array([1, 2, 3, 4, 5, 6, 7, 8, 9])"
      ]
     },
     "execution_count": 143,
     "metadata": {},
     "output_type": "execute_result"
    }
   ],
   "source": [
    "arrange = np.arange(1, 10)\n",
    "arrange  ## array range = arrange"
   ]
  },
  {
   "cell_type": "code",
   "execution_count": 145,
   "metadata": {},
   "outputs": [
    {
     "name": "stdout",
     "output_type": "stream",
     "text": [
      "[0.         1.         1.5849625  2.         2.32192809 2.5849625\n",
      " 2.80735492 3.         3.169925  ]\n",
      "[0.         0.69314718 1.09861229 1.38629436 1.60943791 1.79175947\n",
      " 1.94591015 2.07944154 2.19722458]\n"
     ]
    }
   ],
   "source": [
    "arr = np.arange(1, 10)\n",
    "\n",
    "print(np.log2(arr))\n",
    "print(np.log(arr))"
   ]
  },
  {
   "cell_type": "code",
   "execution_count": 149,
   "metadata": {},
   "outputs": [
    {
     "name": "stdout",
     "output_type": "stream",
     "text": [
      "1.7005483074552052\n"
     ]
    }
   ],
   "source": [
    "import math\n",
    "from math import log\n",
    "import numpy as np\n",
    "\n",
    "nplog = np.frompyfunc(log, 2, 1)  # 用這個frompyfunc 組出自己的function \n",
    "\n",
    "print(nplog(100, 15))  # base 15 log 100 "
   ]
  },
  {
   "cell_type": "code",
   "execution_count": 151,
   "metadata": {},
   "outputs": [
    {
     "name": "stdout",
     "output_type": "stream",
     "text": [
      "1.7005483074552052\n"
     ]
    },
    {
     "data": {
      "text/plain": [
       "array([0.0, 0.2559580248098155, 0.40568387108221293, 0.511916049619631,\n",
       "       0.5943161289177871, 0.6616418958920284, 0.7185650207899779,\n",
       "       0.7678740744294464, 0.8113677421644259], dtype=object)"
      ]
     },
     "execution_count": 151,
     "metadata": {},
     "output_type": "execute_result"
    }
   ],
   "source": [
    "print(math.log(100, 15))\n",
    "\n",
    "arr= np.arange(1, 10)\n",
    "nplog(arr, 15)\n",
    "\n"
   ]
  },
  {
   "cell_type": "code",
   "execution_count": 152,
   "metadata": {},
   "outputs": [
    {
     "name": "stdout",
     "output_type": "stream",
     "text": [
      "12\n"
     ]
    }
   ],
   "source": [
    "# Sum \n",
    "\n",
    "arr1 = np.array([1, 2, 3])\n",
    "arr2 = np.array([1, 2, 3])\n",
    "\n",
    "newarr = np.sum([arr1, arr2])\n",
    "\n",
    "print(newarr)"
   ]
  },
  {
   "cell_type": "code",
   "execution_count": 154,
   "metadata": {},
   "outputs": [
    {
     "name": "stdout",
     "output_type": "stream",
     "text": [
      "[2 4 6]\n"
     ]
    }
   ],
   "source": [
    "\n",
    "newarr = np.add(arr1, arr2)\n",
    "print(newarr)"
   ]
  },
  {
   "cell_type": "code",
   "execution_count": 156,
   "metadata": {},
   "outputs": [
    {
     "name": "stdout",
     "output_type": "stream",
     "text": [
      "[6 6] [2 4 6]\n"
     ]
    }
   ],
   "source": [
    "arr1 = np.array([1, 2, 3])\n",
    "arr2 = np.array([1, 2, 3])\n",
    "\n",
    "col_add = np.sum([arr1, arr2], axis=1)\n",
    "row_add = np.sum([arr1, arr2], axis=0)\n",
    "\n",
    "print(col_add, row_add)"
   ]
  },
  {
   "cell_type": "code",
   "execution_count": 159,
   "metadata": {},
   "outputs": [
    {
     "name": "stdout",
     "output_type": "stream",
     "text": [
      "[1 3 6]\n"
     ]
    }
   ],
   "source": [
    "## Cumulative sum\n",
    "arr = np.array([1, 2, 3])\n",
    "\n",
    "newarr = np.cumsum(arr)\n",
    "\n",
    "print(newarr)\n"
   ]
  },
  {
   "cell_type": "markdown",
   "metadata": {},
   "source": [
    "### Important in calculating the cumulative return "
   ]
  },
  {
   "cell_type": "code",
   "execution_count": 173,
   "metadata": {},
   "outputs": [
    {
     "name": "stdout",
     "output_type": "stream",
     "text": [
      "[ 0.3578073   1.96833948 -0.42269861 -0.59500565  0.41810138]\n",
      "[0.3578073  2.32614678 1.90344817 1.30844252 1.7265439 ]\n",
      "[   5   30  210 1680] [1.1     0.99    0.7524  0.90288]\n"
     ]
    }
   ],
   "source": [
    "## Cumsum \n",
    "\n",
    "ret = np.random.randn(5)\n",
    "cumret = np.cumsum(ret)\n",
    "print(ret)\n",
    "print(cumret)\n",
    "\n",
    "## Cumprod \n",
    "\n",
    "arr = np.array([5, 6, 7, 8])\n",
    "arr1= np.array([1.1, 0.9, 0.76, 1.2])\n",
    "newarr = np.cumprod(arr)\n",
    "cumarr1 = np.cumprod(arr1)\n",
    "\n",
    "print(newarr, cumarr1)"
   ]
  },
  {
   "cell_type": "code",
   "execution_count": 174,
   "metadata": {},
   "outputs": [
    {
     "name": "stdout",
     "output_type": "stream",
     "text": [
      "[  24 1680] [ 5 12 21 32] 40320\n"
     ]
    }
   ],
   "source": [
    "\n",
    "arr1 = np.array([1, 2, 3, 4])\n",
    "arr2 = np.array([5, 6, 7, 8])\n",
    "\n",
    "row_prod = np.prod([arr1, arr2], axis=1)\n",
    "col_prod =  np.prod([arr1, arr2], axis = 0)\n",
    "tot = np.prod([arr1, arr2])\n",
    "print(row_prod, col_prod,  tot)"
   ]
  },
  {
   "cell_type": "code",
   "execution_count": 176,
   "metadata": {},
   "outputs": [
    {
     "name": "stdout",
     "output_type": "stream",
     "text": [
      "[  5  10 -20]\n"
     ]
    }
   ],
   "source": [
    "## Diff : 後 - 前 \n",
    "\n",
    "\n",
    "arr = np.array([10, 15, 25, 5])\n",
    "\n",
    "newarr = np.diff(arr)\n",
    "\n",
    "print(newarr)"
   ]
  },
  {
   "cell_type": "code",
   "execution_count": 178,
   "metadata": {},
   "outputs": [
    {
     "data": {
      "text/plain": [
       "18"
      ]
     },
     "execution_count": 178,
     "metadata": {},
     "output_type": "execute_result"
    }
   ],
   "source": [
    "arr = np.array([3, 6, 9])\n",
    "\n",
    "x = np.lcm.reduce(arr)   \n",
    "x\n"
   ]
  },
  {
   "cell_type": "code",
   "execution_count": 180,
   "metadata": {},
   "outputs": [
    {
     "data": {
      "text/plain": [
       "4"
      ]
     },
     "execution_count": 180,
     "metadata": {},
     "output_type": "execute_result"
    }
   ],
   "source": [
    "arr = np.array([20, 8, 32, 36, 16])\n",
    "\n",
    "x = np.gcd.reduce(arr)\n",
    "x"
   ]
  },
  {
   "cell_type": "code",
   "execution_count": 183,
   "metadata": {},
   "outputs": [
    {
     "data": {
      "text/plain": [
       "array([1, 2, 3, 4, 5, 6, 7])"
      ]
     },
     "execution_count": 183,
     "metadata": {},
     "output_type": "execute_result"
    }
   ],
   "source": [
    "## set \n",
    "\n",
    "arr = np.array([1, 1, 1, 2, 3, 4, 5, 5, 6, 7])\n",
    "\n",
    "x = np.unique(arr)   \n",
    "\n",
    "x"
   ]
  },
  {
   "cell_type": "code",
   "execution_count": 184,
   "metadata": {},
   "outputs": [
    {
     "data": {
      "text/plain": [
       "' \\nnewarr = np.union1d(arr1, arr2)：聯集(union)\\nnewarr = np.intersect1d(arr1, arr2, assume_unique=True)：交集(intersection)\\nnewarr = np.setdiff1d(set1, set2, assume_unique=True)：差(difference)\\nnewarr = np.setxor1d(set1, set2, assume_unique=True)：對稱差(symmetric difference)\\nassume_unique=True：此屬性可以加速運算，寫就對了!\\n\\n'"
      ]
     },
     "execution_count": 184,
     "metadata": {},
     "output_type": "execute_result"
    }
   ],
   "source": [
    "\"\"\" \n",
    "newarr = np.union1d(arr1, arr2)：聯集(union)\n",
    "newarr = np.intersect1d(arr1, arr2, assume_unique=True)：交集(intersection)\n",
    "newarr = np.setdiff1d(set1, set2, assume_unique=True)：差(difference)\n",
    "newarr = np.setxor1d(set1, set2, assume_unique=True)：對稱差(symmetric difference)\n",
    "assume_unique=True：此屬性可以加速運算，寫就對了!\n",
    "\n",
    "\"\"\" \n",
    "\n"
   ]
  },
  {
   "cell_type": "code",
   "execution_count": 185,
   "metadata": {},
   "outputs": [],
   "source": [
    "import scipy"
   ]
  },
  {
   "cell_type": "code",
   "execution_count": 199,
   "metadata": {},
   "outputs": [
    {
     "name": "stdout",
     "output_type": "stream",
     "text": [
      "0.001\n",
      "3.141592653589793\n",
      "['Avogadro', 'Boltzmann', 'Btu', 'Btu_IT', 'Btu_th', 'ConstantWarning', 'G', 'Julian_year', 'N_A', 'Planck', 'R', 'Rydberg', 'Stefan_Boltzmann', 'Wien', '__all__', '__builtins__', '__cached__', '__doc__', '__file__', '__loader__', '__name__', '__package__', '__path__', '__spec__', '_codata', '_constants', '_obsolete_constants', 'acre', 'alpha', 'angstrom', 'arcmin', 'arcminute', 'arcsec', 'arcsecond', 'astronomical_unit', 'atm', 'atmosphere', 'atomic_mass', 'atto', 'au', 'bar', 'barrel', 'bbl', 'blob', 'c', 'calorie', 'calorie_IT', 'calorie_th', 'carat', 'centi', 'codata', 'constants', 'convert_temperature', 'day', 'deci', 'degree', 'degree_Fahrenheit', 'deka', 'dyn', 'dyne', 'e', 'eV', 'electron_mass', 'electron_volt', 'elementary_charge', 'epsilon_0', 'erg', 'exa', 'exbi', 'femto', 'fermi', 'find', 'fine_structure', 'fluid_ounce', 'fluid_ounce_US', 'fluid_ounce_imp', 'foot', 'g', 'gallon', 'gallon_US', 'gallon_imp', 'gas_constant', 'gibi', 'giga', 'golden', 'golden_ratio', 'grain', 'gram', 'gravitational_constant', 'h', 'hbar', 'hectare', 'hecto', 'horsepower', 'hour', 'hp', 'inch', 'k', 'kgf', 'kibi', 'kilo', 'kilogram_force', 'kmh', 'knot', 'lambda2nu', 'lb', 'lbf', 'light_year', 'liter', 'litre', 'long_ton', 'm_e', 'm_n', 'm_p', 'm_u', 'mach', 'mebi', 'mega', 'metric_ton', 'micro', 'micron', 'mil', 'mile', 'milli', 'minute', 'mmHg', 'mph', 'mu_0', 'nano', 'nautical_mile', 'neutron_mass', 'nu2lambda', 'ounce', 'oz', 'parsec', 'pebi', 'peta', 'physical_constants', 'pi', 'pico', 'point', 'pound', 'pound_force', 'precision', 'proton_mass', 'psi', 'pt', 'quecto', 'quetta', 'ronna', 'ronto', 'short_ton', 'sigma', 'slinch', 'slug', 'speed_of_light', 'speed_of_sound', 'stone', 'survey_foot', 'survey_mile', 'tebi', 'tera', 'test', 'ton_TNT', 'torr', 'troy_ounce', 'troy_pound', 'u', 'unit', 'value', 'week', 'yard', 'year', 'yobi', 'yocto', 'yotta', 'zebi', 'zepto', 'zero_Celsius', 'zetta']\n"
     ]
    }
   ],
   "source": [
    "from scipy import constants\n",
    "\n",
    "print(constants.liter)\n",
    "print(constants.pi)\n",
    "print(dir(constants))  # 所有單位 unit \n"
   ]
  },
  {
   "cell_type": "code",
   "execution_count": 201,
   "metadata": {},
   "outputs": [
    {
     "name": "stdout",
     "output_type": "stream",
     "text": [
      "0.017453292519943295\n",
      "0.0002908882086657216\n",
      "0.0002908882086657216\n",
      "4.84813681109536e-06\n",
      "4.84813681109536e-06\n"
     ]
    }
   ],
   "source": [
    "## CTA 計算角度 斜率 之類的可能用到 \n",
    "\n",
    "\n",
    "\n",
    "from scipy import constants\n",
    "\n",
    "print(constants.degree)     #0.017453292519943295\n",
    "print(constants.arcmin)     #0.0002908882086657216\n",
    "print(constants.arcminute)  #0.0002908882086657216\n",
    "print(constants.arcsec)     #4.84813681109536e-06\n",
    "print(constants.arcsecond)  #4.84813681109536e-06"
   ]
  },
  {
   "cell_type": "code",
   "execution_count": 202,
   "metadata": {},
   "outputs": [
    {
     "name": "stdout",
     "output_type": "stream",
     "text": [
      "60.0\n",
      "3600.0\n",
      "86400.0\n",
      "604800.0\n",
      "31536000.0\n"
     ]
    }
   ],
   "source": [
    "from scipy import constants\n",
    "\n",
    "print(constants.minute)      #60.0\n",
    "print(constants.hour)        #3600.0\n",
    "print(constants.day)         #86400.0\n",
    "print(constants.week)        #604800.0\n",
    "print(constants.year)        #31536000.0"
   ]
  },
  {
   "cell_type": "markdown",
   "metadata": {},
   "source": [
    "### Optimization "
   ]
  },
  {
   "cell_type": "code",
   "execution_count": 190,
   "metadata": {},
   "outputs": [
    {
     "name": "stdout",
     "output_type": "stream",
     "text": [
      "[-0.73908513]\n"
     ]
    },
    {
     "name": "stderr",
     "output_type": "stream",
     "text": [
      "/var/folders/kz/g7fm_pz11tv5kbttdpy6thc40000gn/T/ipykernel_51703/2724106289.py:37: DeprecationWarning: Conversion of an array with ndim > 0 to a scalar is deprecated, and will error in future. Ensure you extract a single element from your array before performing this operation. (Deprecated NumPy 1.25.)\n",
      "  return x + cos(x)\n"
     ]
    }
   ],
   "source": [
    "## root 函數的核心功能是數值求解方程的根\n",
    "\"\"\" \n",
    "\n",
    "from scipy.optimize import root\n",
    "\n",
    "result = root(fun, x0, args=(), method='hybr', jac=None, tol=None, options=None)\n",
    "參數說明\n",
    "fun：需要求解的函數，接收一個或多個變量作為輸入，返回對應的函數值。\n",
    "\n",
    "x0：初始猜測值，可以是標量（單個數值）或數組（對於多變量情況）。\n",
    "\n",
    "args：傳遞給函數 fun 的額外參數，格式為元組。\n",
    "\n",
    "method：選擇求解方法，默認為 'hybr' 方法。其他可選方法包括：\n",
    "\n",
    "'broyden1'\n",
    "'broyden2'\n",
    "'anderson'\n",
    "'linearmixing'\n",
    "'diagbroyden'\n",
    "'excitingmixing'\n",
    "'krylov'\n",
    "'df-sane'\n",
    "jac：函數的雅可比矩陣（導數），可選。如果提供，能夠提高收斂速度和精度。\n",
    "\n",
    "tol：求解的容差，控制求解的精度。\n",
    "\n",
    "options：其他選項，以字典形式傳遞，根據不同的方法可以設置不同的參數。\n",
    "\n",
    "\"\"\" \n",
    "\n",
    "\n",
    "from scipy.optimize import root\n",
    "from math import cos\n",
    "\n",
    "def eqn(x):\n",
    "  return x + cos(x)\n",
    "\n",
    "myroot = root(eqn, 0)\n",
    "\n",
    "print(myroot.x)    "
   ]
  },
  {
   "cell_type": "code",
   "execution_count": 191,
   "metadata": {},
   "outputs": [
    {
     "name": "stdout",
     "output_type": "stream",
     "text": [
      "  message: Optimization terminated successfully.\n",
      "  success: True\n",
      "   status: 0\n",
      "      fun: 1.75\n",
      "        x: [-5.000e-01]\n",
      "      nit: 2\n",
      "      jac: [ 0.000e+00]\n",
      " hess_inv: [[ 5.000e-01]]\n",
      "     nfev: 8\n",
      "     njev: 4\n"
     ]
    },
    {
     "data": {
      "text/plain": [
       "' \\nx：找到的根值（或根的近似值）。\\nsuccess：一個布爾值，表示求解過程是否成功收斂到一個根。\\nmessage：描述求解過程的字符串消息，可以幫助你理解求解是否成功以及可能的問題。\\nnfev：評估函數的次數，表示在求解過程中 --> 計算了多少次 f(x)。\\nnjev：評估雅可比矩陣（如果適用）的次數。\\n'"
      ]
     },
     "execution_count": 191,
     "metadata": {},
     "output_type": "execute_result"
    }
   ],
   "source": [
    "## Minimization of the function x^2 + x + 2 with BFGS:\n",
    "\n",
    "\n",
    "\n",
    "from scipy.optimize import minimize\n",
    "\n",
    "def eqn(x):  # target equation \n",
    "  return x**2 + x + 2\n",
    "\n",
    "mymin = minimize(eqn, 0, method='BFGS')\n",
    "\n",
    "print(mymin)\n",
    "\n",
    "\n",
    "\n",
    "\"\"\" \n",
    "x：找到的根值（或根的近似值）。\n",
    "success：一個布爾值，表示求解過程是否成功收斂到一個根。\n",
    "message：描述求解過程的字符串消息，可以幫助你理解求解是否成功以及可能的問題。\n",
    "nfev：評估函數的次數，表示在求解過程中 --> 計算了多少次 f(x)。\n",
    "njev：評估雅可比矩陣（如果適用）的次數。\n",
    "\"\"\" "
   ]
  },
  {
   "cell_type": "code",
   "execution_count": 194,
   "metadata": {},
   "outputs": [],
   "source": [
    "## 以上筆記連結 https://hackmd.io/@AndyChiang/PythonHardNote"
   ]
  },
  {
   "cell_type": "markdown",
   "metadata": {},
   "source": [
    "### Significance Test "
   ]
  },
  {
   "cell_type": "code",
   "execution_count": 203,
   "metadata": {},
   "outputs": [
    {
     "data": {
      "text/plain": [
       "' \\nT-tests are used to determine if there is significant diference between \\nmeans of two variables and lets us know if they belong to the same distribution\\n\\n-----------------------------------------------------------------------\\nP value tells how close to extreme the data actually is.\\nP value and alpha values are compared to establish the statistical significance.\\nIf p value <= alpha we reject the null hypothesis and say that the data is statistically significant. \\notherwise we accept the null hypothesis.\\n'"
      ]
     },
     "execution_count": 203,
     "metadata": {},
     "output_type": "execute_result"
    }
   ],
   "source": [
    "\"\"\" \n",
    "T-tests are used to determine if there is significant diference between \n",
    "means of two variables and lets us know if they belong to the same distribution\n",
    "\n",
    "-----------------------------------------------------------------------\n",
    "P value tells how close to extreme the data actually is.\n",
    "P value and alpha values are compared to establish the statistical significance.\n",
    "If p value <= alpha we reject the null hypothesis and say that the data is statistically significant. \n",
    "otherwise we accept the null hypothesis.\n",
    "\"\"\" \n"
   ]
  },
  {
   "cell_type": "markdown",
   "metadata": {},
   "source": [
    "## 驗證兩個data 的 dist 是否相同 "
   ]
  },
  {
   "cell_type": "code",
   "execution_count": 210,
   "metadata": {},
   "outputs": [
    {
     "name": "stdout",
     "output_type": "stream",
     "text": [
      "TtestResult(statistic=-0.08719568873776545, pvalue=0.930604085485919, df=198.0)\n",
      "0.930604085485919\n"
     ]
    }
   ],
   "source": [
    "## ttest_ind : 可以用來驗證論文上面的一些假設 \n",
    "\n",
    "\n",
    "from scipy.stats import ttest_ind\n",
    "\n",
    "v1 = np.random.normal(size=100)\n",
    "v2 = np.random.normal(size=100)\n",
    "\n",
    "res = ttest_ind(v1, v2)\n",
    "\n",
    "print(res)\n",
    "\n",
    "res1 = ttest_ind(v1, v2).pvalue\n",
    "\n",
    "print(res1)"
   ]
  },
  {
   "cell_type": "markdown",
   "metadata": {},
   "source": [
    "## 驗證是否符合某分配 "
   ]
  },
  {
   "cell_type": "code",
   "execution_count": 213,
   "metadata": {},
   "outputs": [
    {
     "name": "stdout",
     "output_type": "stream",
     "text": [
      "KstestResult(statistic=0.08900418206992777, pvalue=0.38407509979958665, statistic_location=0.329217050940319, statistic_sign=-1)\n"
     ]
    }
   ],
   "source": [
    "## KS test is used  -->  to check if given values follow a distribution.\n",
    "\"\"\"\n",
    " This value represents the maximum difference between the cumulative distribution function (CDF) of your sample \n",
    " and the CDF of the reference distribution (in the case of a one-sample K-S test) \n",
    " or the maximum difference between the CDFs of two samples (in the case of a two-sample K-S test).\n",
    "\"\"\"\n",
    "\n",
    "import numpy as np\n",
    "from scipy.stats import kstest\n",
    "\n",
    "v = np.random.normal(size=100)\n",
    "\n",
    "res = kstest(v, 'norm')\n",
    "\n",
    "print(res)\n",
    "\n",
    "\n",
    "## result : \n",
    "# small KS statistic and high p value ( can't reject null hypothesis that twwo dist is diff) --> two dist may be cooming from same distribution"
   ]
  },
  {
   "cell_type": "code",
   "execution_count": 214,
   "metadata": {},
   "outputs": [
    {
     "data": {
      "text/plain": [
       "' \\nTips ---> Visualization:\\nCDF Plot: Plotting the empirical CDF of the sample against the reference CDF \\ncan provide a visual sense of where the differences are and how large they are, reinforcing the numerical results.\\n'"
      ]
     },
     "execution_count": 214,
     "metadata": {},
     "output_type": "execute_result"
    }
   ],
   "source": [
    "\"\"\" \n",
    "Tips ---> Visualization:\n",
    "CDF Plot: Plotting the empirical CDF of the sample against the reference CDF \n",
    "can provide a visual sense of where the differences are and how large they are, reinforcing the numerical results.\n",
    "\"\"\" "
   ]
  },
  {
   "cell_type": "code",
   "execution_count": 215,
   "metadata": {},
   "outputs": [
    {
     "name": "stdout",
     "output_type": "stream",
     "text": [
      "DescribeResult(nobs=100, minmax=(-2.9205000078420738, 2.363771634742998), mean=-0.10538497121470965, variance=1.0382385526265425, skewness=-0.12933684403906495, kurtosis=0.1731556710286819)\n"
     ]
    }
   ],
   "source": [
    "## describe \n",
    "\n",
    "import numpy as np\n",
    "from scipy.stats import describe\n",
    "\n",
    "v = np.random.normal(size=100)\n",
    "res = describe(v)\n",
    "\n",
    "print(res)\n"
   ]
  },
  {
   "cell_type": "markdown",
   "metadata": {},
   "source": [
    "### Normality  test \n",
    "- Normality tests are based on the skewness and kurtosis.\n",
    "\n",
    "- The normaltest() function returns p value for the null hypothesis:\n",
    "\n",
    "- \"x comes from a normal distribution\". "
   ]
  },
  {
   "cell_type": "code",
   "execution_count": null,
   "metadata": {},
   "outputs": [],
   "source": []
  },
  {
   "cell_type": "markdown",
   "metadata": {},
   "source": [
    "在分析資料時，**偏度（Skewness）** 和 **峰度（Kurtosis）** 是用來描述資料分佈形狀的重要統計量。讓我們逐步解釋如何解讀這兩種統計量。\n",
    "\n",
    "### 1. 偏度（Skewness）\n",
    "偏度是用來衡量資料分佈的對稱性。如果分佈是完全對稱的（例如正態分佈），偏度應該接近於零。偏度的計算公式為：\n",
    "\n",
    "\n",
    "#### 解讀：\n",
    "- **偏度 > 0（正偏）：** 分佈的右側（較大的值）尾巴較長，數據右偏，意味著大多數數據集中在平均值的左側。\n",
    "- **偏度 < 0（負偏）：** 分佈的左側（較小的值）尾巴較長，數據左偏，意味著大多數數據集中在平均值的右側。\n",
    "- **偏度 = 0（無偏）：** 分佈是對稱的，左側和右側的尾巴長度相等。\n",
    "\n",
    "在你提供的程式碼中，`skew(v)` 計算並輸出隨機變量 `v` 的偏度。如果偏度接近於 0，則 `v` 的分佈大致是對稱的。如果偏度明顯為正或負，則 `v` 的分佈分別會是右偏或左偏的。\n",
    "\n",
    "### 2. 峰度（Kurtosis）\n",
    "峰度是用來衡量資料分佈的陡峭程度（即分佈的尖峰程度）。在標準正態分佈中，峰度應該接近於 3（在 SciPy 的 `kurtosis` 函數中，通常使用的是調整後的峰度，即 `excess kurtosis`，所以正態分佈的調整後峰度為 0）。\n",
    "\n",
    "\n",
    "#### 解讀：\n",
    "- **峰度 > 0（高峰厚尾）：** 分佈有更尖的峰值，並且尾部比正態分佈更厚。這意味著極端值（outliers）的概率較高。\n",
    "- **峰度 < 0（低峰薄尾）：** 分佈較平坦，尾部較薄，極端值出現的概率較低。\n",
    "- **峰度 = 0（正態峰度）：** 分佈的尖峰程度與正態分佈相似。\n",
    "\n",
    "在你提供的程式碼中，`kurtosis(v)` 計算並輸出隨機變量 `v` 的峰度。如果結果接近於 0，則 `v` 的分佈與正態分佈的尖峰程度相似。如果結果大於 0，則 `v` 的分佈可能更尖且有較厚的尾巴；如果小於 0，則分佈可能較為平坦。\n",
    "\n",
    "\n",
    "### 總結：\n",
    "- **偏度** 可以告訴你資料分佈是否對稱，以及是否有長尾現象（右偏或左偏）。\n",
    "- **峰度** 可以告訴你資料分佈的尖峰程度，即是否有很多極端值或較少極端值。\n",
    "- 使用這些統計量，你可以更好地理解資料分佈的形狀特徵，從而幫助你進行更準確的分析。"
   ]
  },
  {
   "cell_type": "code",
   "execution_count": 218,
   "metadata": {},
   "outputs": [
    {
     "name": "stdout",
     "output_type": "stream",
     "text": [
      "-0.13686826638115554\n",
      "0.19400138952375023\n"
     ]
    },
    {
     "data": {
      "text/plain": [
       "[<matplotlib.lines.Line2D at 0x17e895820>]"
      ]
     },
     "execution_count": 218,
     "metadata": {},
     "output_type": "execute_result"
    },
    {
     "data": {
      "image/png": "[encoded data removed]",
      "text/plain": [
       "<Figure size 640x480 with 1 Axes>"
      ]
     },
     "metadata": {},
     "output_type": "display_data"
    }
   ],
   "source": [
    "from scipy.stats import skew, kurtosis\n",
    "\n",
    "v = np.random.normal(size=100)\n",
    "\n",
    "print(skew(v))\n",
    "print(kurtosis(v))\n",
    "\n",
    "plt.plot(v)"
   ]
  },
  {
   "cell_type": "code",
   "execution_count": 252,
   "metadata": {},
   "outputs": [
    {
     "name": "stdout",
     "output_type": "stream",
     "text": [
      "NormaltestResult(statistic=17.591677834542597, pvalue=0.0001513615946449407)\n"
     ]
    }
   ],
   "source": [
    "import numpy as np\n",
    "from scipy.stats import normaltest\n",
    "\n",
    "v = np.random.normal(size=100)\n",
    "\n",
    "print(normaltest(v))"
   ]
  },
  {
   "cell_type": "markdown",
   "metadata": {},
   "source": [
    "### Risk Parity "
   ]
  },
  {
   "cell_type": "code",
   "execution_count": 219,
   "metadata": {},
   "outputs": [
    {
     "data": {
      "text/html": [
       "<div>\n",
       "<style scoped>\n",
       "    .dataframe tbody tr th:only-of-type {\n",
       "        vertical-align: middle;\n",
       "    }\n",
       "\n",
       "    .dataframe tbody tr th {\n",
       "        vertical-align: top;\n",
       "    }\n",
       "\n",
       "    .dataframe thead th {\n",
       "        text-align: right;\n",
       "    }\n",
       "</style>\n",
       "<table border=\"1\" class=\"dataframe\">\n",
       "  <thead>\n",
       "    <tr style=\"text-align: right;\">\n",
       "      <th></th>\n",
       "      <th>Stocks</th>\n",
       "      <th>Bonds</th>\n",
       "      <th>Gold</th>\n",
       "    </tr>\n",
       "  </thead>\n",
       "  <tbody>\n",
       "    <tr>\n",
       "      <th>0</th>\n",
       "      <td>0.0015</td>\n",
       "      <td>0.0005</td>\n",
       "      <td>0.0001</td>\n",
       "    </tr>\n",
       "    <tr>\n",
       "      <th>1</th>\n",
       "      <td>0.0023</td>\n",
       "      <td>0.0006</td>\n",
       "      <td>-0.0002</td>\n",
       "    </tr>\n",
       "    <tr>\n",
       "      <th>2</th>\n",
       "      <td>-0.0020</td>\n",
       "      <td>0.0005</td>\n",
       "      <td>0.0003</td>\n",
       "    </tr>\n",
       "    <tr>\n",
       "      <th>3</th>\n",
       "      <td>0.0020</td>\n",
       "      <td>0.0004</td>\n",
       "      <td>-0.0001</td>\n",
       "    </tr>\n",
       "    <tr>\n",
       "      <th>4</th>\n",
       "      <td>0.0018</td>\n",
       "      <td>0.0006</td>\n",
       "      <td>0.0002</td>\n",
       "    </tr>\n",
       "  </tbody>\n",
       "</table>\n",
       "</div>"
      ],
      "text/plain": [
       "   Stocks   Bonds    Gold\n",
       "0  0.0015  0.0005  0.0001\n",
       "1  0.0023  0.0006 -0.0002\n",
       "2 -0.0020  0.0005  0.0003\n",
       "3  0.0020  0.0004 -0.0001\n",
       "4  0.0018  0.0006  0.0002"
      ]
     },
     "execution_count": 219,
     "metadata": {},
     "output_type": "execute_result"
    }
   ],
   "source": [
    "\n",
    "import numpy as np\n",
    "import pandas as pd\n",
    "import matplotlib.pyplot as plt\n",
    "\n",
    "# 假设的历史日收益率数据，实际应用中应从金融数据库获取\n",
    "data = {\n",
    "    'Stocks': [0.0015, 0.0023, -0.002, 0.002, 0.0018],\n",
    "    'Bonds': [0.0005, 0.0006, 0.0005, 0.0004, 0.0006],\n",
    "    'Gold': [0.0001, -0.0002, 0.0003, -0.0001, 0.0002]\n",
    "}\n",
    "\n",
    "# 创建DataFrame\n",
    "df = pd.DataFrame(data)\n",
    "df\n",
    "\n"
   ]
  },
  {
   "cell_type": "code",
   "execution_count": 221,
   "metadata": {},
   "outputs": [
    {
     "name": "stdout",
     "output_type": "stream",
     "text": [
      "Stocks    0.001768\n",
      "Bonds     0.000084\n",
      "Gold      0.000207\n",
      "dtype: float64\n",
      "          Stocks     Bonds      Gold\n",
      "Stocks  1.000000  0.165597 -0.740409\n",
      "Bonds   0.165597  1.000000  0.057639\n",
      "Gold   -0.740409  0.057639  1.000000\n",
      "风险平价权重：\n",
      " Stocks    0.032612\n",
      "Bonds     0.689281\n",
      "Gold      0.278107\n",
      "dtype: float64\n"
     ]
    },
    {
     "data": {
      "image/png": "[encoded data removed]",
      "text/plain": [
       "<Figure size 640x480 with 1 Axes>"
      ]
     },
     "metadata": {},
     "output_type": "display_data"
    }
   ],
   "source": [
    "# 计算日收益率的标准差（波动率）\n",
    "volatility = df.std()\n",
    "print(volatility)\n",
    "# 计算资产之间的相关性矩阵\n",
    "correlation_matrix = df.corr()\n",
    "print(correlation_matrix)\n",
    "\n",
    "# 计算资产波动率的倒数作为风险平价权重的简化计算方法\n",
    "inverse_volatility = 1 / volatility\n",
    "risk_parity_weights = inverse_volatility / sum(inverse_volatility)\n",
    "\n",
    "# 输出风险平价权重\n",
    "print(\"风险平价权重：\\n\", risk_parity_weights)\n",
    "\n",
    "# 可视化权重\n",
    "risk_parity_weights.plot(kind='bar')\n",
    "plt.title('Risk Parity Weights')\n",
    "plt.xlabel('Assets')\n",
    "plt.ylabel('Weights')\n",
    "plt.show()"
   ]
  },
  {
   "cell_type": "markdown",
   "metadata": {},
   "source": [
    "### 改進 風險平價 算法"
   ]
  },
  {
   "cell_type": "code",
   "execution_count": 251,
   "metadata": {},
   "outputs": [
    {
     "name": "stdout",
     "output_type": "stream",
     "text": [
      " message: Optimization terminated successfully\n",
      " success: True\n",
      "  status: 0\n",
      "     fun: 2.4598127457066007e-07\n",
      "       x: [ 3.333e-01  3.333e-01  3.333e-01]\n",
      "     nit: 1\n",
      "     jac: [ 1.448e-06 -1.453e-08  4.245e-08]\n",
      "    nfev: 4\n",
      "    njev: 1\n",
      "風險平價權重：\n",
      " [0.33333333 0.33333333 0.33333333]\n",
      "每個資產的風險貢獻 (Risk Contributions): \n",
      " [ 5.85867070e-04  6.61134714e-06 -4.62794300e-05]\n"
     ]
    },
    {
     "data": {
      "image/png": "[encoded data removed]",
      "text/plain": [
       "<Figure size 640x480 with 1 Axes>"
      ]
     },
     "metadata": {},
     "output_type": "display_data"
    },
    {
     "data": {
      "image/png": "[encoded data removed]",
      "text/plain": [
       "<Figure size 640x480 with 1 Axes>"
      ]
     },
     "metadata": {},
     "output_type": "display_data"
    }
   ],
   "source": [
    "import numpy as np\n",
    "import pandas as pd\n",
    "from scipy.optimize import minimize\n",
    "import matplotlib.pyplot as plt\n",
    "\n",
    "# 構建數據框\n",
    "data = {\n",
    "    'Stocks': [0.0015, 0.0023, -0.0020, 0.0020, 0.0018],\n",
    "    'Bonds': [0.0005, 0.0006, 0.0005, 0.0004, 0.0006],\n",
    "    'Gold': [0.0001, -0.0002, 0.0003, -0.0001, 0.0002]\n",
    "}\n",
    "df = pd.DataFrame(data)\n",
    "\n",
    "# 計算各資產的波動率、相關性矩陣和協方差矩陣\n",
    "covariance_matrix = df.cov()\n",
    "\n",
    "# 定義目標函數來使風險貢獻相等\n",
    "def risk_parity_objective(weights, covariance_matrix):\n",
    "    portfolio_volatility = np.sqrt(np.dot(weights.T, np.dot(covariance_matrix, weights)))\n",
    "    marginal_risk_contributions = np.dot(covariance_matrix, weights) / portfolio_volatility\n",
    "    risk_contributions = weights * marginal_risk_contributions\n",
    "    \n",
    "    target_contribution = portfolio_volatility / len(weights)\n",
    "    return np.sum((risk_contributions - target_contribution) ** 2)\n",
    "    \n",
    "\n",
    "# 初始化權重\n",
    "num_assets = len(df.columns)\n",
    "initial_weights = np.ones(num_assets) / num_assets\n",
    "\n",
    "# 設定約束條件：權重之和等於1\n",
    "constraints = ({'type': 'eq', 'fun': lambda x: np.sum(x) - 1})\n",
    "\n",
    "# 設定權重非負的限制條件\n",
    "bounds = tuple((0.01, 0.99) for asset in range(num_assets))  # 避免權重為0或1\n",
    "\n",
    "# 使用優化算法計算最優權重\n",
    "optimized_result = minimize(risk_parity_objective, initial_weights,\n",
    "                            args=(covariance_matrix,), method='SLSQP',\n",
    "                            constraints=constraints, bounds=bounds)\n",
    "\n",
    "# 獲取最優權重\n",
    "result  = optimized_result\n",
    "print(result)\n",
    "risk_parity_weights = optimized_result.x\n",
    "print(\"風險平價權重：\\n\", risk_parity_weights)\n",
    "\n",
    "# 使用計算出的權重計算投資組合的波動率\n",
    "portfolio_volatility = np.sqrt(np.dot(risk_parity_weights.T, np.dot(covariance_matrix, risk_parity_weights)))\n",
    "\n",
    "# 計算每個資產的邊際風險貢獻\n",
    "marginal_risk_contributions = np.dot(covariance_matrix, risk_parity_weights) / portfolio_volatility\n",
    "\n",
    "# 計算每個資產的風險貢獻 RC_i\n",
    "risk_contributions = risk_parity_weights * marginal_risk_contributions\n",
    "\n",
    "# 輸出風險貢獻\n",
    "print(\"每個資產的風險貢獻 (Risk Contributions): \\n\", risk_contributions)\n",
    "\n",
    "# 可視化權重\n",
    "plt.bar(df.columns, risk_contributions)\n",
    "plt.title('Risk contributions ')\n",
    "plt.xlabel('Assets')\n",
    "plt.ylabel('risk_contributions')\n",
    "plt.show()\n",
    "\n",
    "plt.bar(df.columns, risk_parity_weights)\n",
    "plt.title('Risk Parity Weights')\n",
    "plt.xlabel('Assets')\n",
    "plt.ylabel('risk_parity_weights')\n",
    "plt.show()\n"
   ]
  },
  {
   "cell_type": "markdown",
   "metadata": {},
   "source": [
    "### 分解"
   ]
  },
  {
   "cell_type": "code",
   "execution_count": 232,
   "metadata": {},
   "outputs": [
    {
     "name": "stdout",
     "output_type": "stream",
     "text": [
      "數據框: \n",
      "    Stocks   Bonds    Gold\n",
      "0  0.0015  0.0005  0.0001\n",
      "1  0.0023  0.0006 -0.0002\n",
      "2 -0.0020  0.0005  0.0003\n",
      "3  0.0020  0.0004 -0.0001\n",
      "4  0.0018  0.0006  0.0002\n"
     ]
    }
   ],
   "source": [
    "import numpy as np\n",
    "import pandas as pd\n",
    "from scipy.optimize import minimize\n",
    "import matplotlib.pyplot as plt\n",
    "\n",
    "# 構建數據框\n",
    "data = {\n",
    "    'Stocks': [0.0015, 0.0023, -0.0020, 0.0020, 0.0018],\n",
    "    'Bonds': [0.0005, 0.0006, 0.0005, 0.0004, 0.0006],\n",
    "    'Gold': [0.0001, -0.0002, 0.0003, -0.0001, 0.0002]\n",
    "}\n",
    "df = pd.DataFrame(data)\n",
    "\n",
    "print(\"數據框: \\n\", df)\n"
   ]
  },
  {
   "cell_type": "code",
   "execution_count": 233,
   "metadata": {},
   "outputs": [
    {
     "name": "stdout",
     "output_type": "stream",
     "text": [
      "波動率: \n",
      " Stocks    0.001768\n",
      "Bonds     0.000084\n",
      "Gold      0.000207\n",
      "dtype: float64\n",
      "協方差矩陣: \n",
      "               Stocks         Bonds          Gold\n",
      "Stocks  3.127000e-06  2.450000e-08 -2.715000e-07\n",
      "Bonds   2.450000e-08  7.000000e-09  1.000000e-09\n",
      "Gold   -2.715000e-07  1.000000e-09  4.300000e-08\n"
     ]
    }
   ],
   "source": [
    "volatility = df.std()\n",
    "correlation_matrix = df.corr()\n",
    "covariance_matrix = df.cov()\n",
    "print(\"波動率: \\n\", volatility)\n",
    "print(\"協方差矩陣: \\n\", covariance_matrix)\n"
   ]
  },
  {
   "cell_type": "code",
   "execution_count": 234,
   "metadata": {},
   "outputs": [
    {
     "name": "stdout",
     "output_type": "stream",
     "text": [
      "風險平價權重: \n",
      " [0.33333333 0.33333333 0.33333333]\n"
     ]
    }
   ],
   "source": [
    "def risk_parity_objective(weights, covariance_matrix):\n",
    "    portfolio_volatility = np.sqrt(np.dot(weights.T, np.dot(covariance_matrix, weights)))\n",
    "    marginal_risk_contributions = np.dot(covariance_matrix, weights) / portfolio_volatility\n",
    "    risk_contributions = weights * marginal_risk_contributions\n",
    "    target_risk_contribution = portfolio_volatility / len(weights)\n",
    "    return np.sum((risk_contributions - target_risk_contribution) ** 2)\n",
    "\n",
    "num_assets = len(df.columns)\n",
    "initial_weights = np.ones(num_assets) / num_assets\n",
    "\n",
    "constraints = ({'type': 'eq', 'fun': lambda x: np.sum(x) - 1})\n",
    "bounds = tuple((0, 1) for asset in range(num_assets))\n",
    "\n",
    "optimized_result = minimize(risk_parity_objective, initial_weights,\n",
    "                            args=(covariance_matrix,), method='SLSQP',\n",
    "                            constraints=constraints, bounds=bounds)\n",
    "\n",
    "risk_parity_weights = optimized_result.x\n",
    "print(\"風險平價權重: \\n\", risk_parity_weights)\n"
   ]
  },
  {
   "cell_type": "code",
   "execution_count": 239,
   "metadata": {},
   "outputs": [
    {
     "name": "stdout",
     "output_type": "stream",
     "text": [
      "風險平價權重: \n",
      " [0.33333333 0.33333333 0.33333333]\n",
      "每個資產的風險貢獻 (Risk Contributions): \n",
      " [ 5.85867070e-04  6.61134714e-06 -4.62794300e-05]\n"
     ]
    },
    {
     "name": "stderr",
     "output_type": "stream",
     "text": [
      "/var/folders/kz/g7fm_pz11tv5kbttdpy6thc40000gn/T/ipykernel_51703/1090109625.py:24: RuntimeWarning: invalid value encountered in log\n",
      "  log_risk_contributions = np.log(risk_contributions)\n"
     ]
    },
    {
     "data": {
      "image/png": "[encoded data removed]",
      "text/plain": [
       "<Figure size 640x480 with 1 Axes>"
      ]
     },
     "metadata": {},
     "output_type": "display_data"
    }
   ],
   "source": [
    "import numpy as np\n",
    "import pandas as pd\n",
    "from scipy.optimize import minimize\n",
    "import matplotlib.pyplot as plt\n",
    "\n",
    "# 構建數據框\n",
    "data = {\n",
    "    'Stocks': [0.0015, 0.0023, -0.0020, 0.0020, 0.0018],\n",
    "    'Bonds': [0.0005, 0.0006, 0.0005, 0.0004, 0.0006],\n",
    "    'Gold': [0.0001, -0.0002, 0.0003, -0.0001, 0.0002]\n",
    "}\n",
    "df = pd.DataFrame(data)\n",
    "\n",
    "# 計算各資產的波動率、相關性矩陣和協方差矩陣\n",
    "covariance_matrix = df.cov()\n",
    "\n",
    "# 定義目標函數來使風險貢獻相同\n",
    "def risk_parity_objective(weights, covariance_matrix):\n",
    "    portfolio_volatility = np.sqrt(np.dot(weights.T, np.dot(covariance_matrix, weights)))\n",
    "    marginal_risk_contributions = np.dot(covariance_matrix, weights) / portfolio_volatility\n",
    "    risk_contributions = weights * marginal_risk_contributions\n",
    "    \n",
    "    # 计算每个资产的风险贡献与目标风险贡献的对数差异\n",
    "    log_risk_contributions = np.log(risk_contributions)\n",
    "    return np.sum((log_risk_contributions - np.mean(log_risk_contributions)) ** 2)\n",
    "\n",
    "# 初始化權重\n",
    "num_assets = len(df.columns)\n",
    "initial_weights = np.ones(num_assets) / num_assets\n",
    "\n",
    "# 設定約束條件：權重之和等於1\n",
    "constraints = ({'type': 'eq', 'fun': lambda x: np.sum(x) - 1})\n",
    "\n",
    "# 設定權重非負的限制條件\n",
    "bounds = tuple((0, 1) for asset in range(num_assets))\n",
    "\n",
    "# 使用優化算法計算最優權重\n",
    "optimized_result = minimize(risk_parity_objective, initial_weights,\n",
    "                            args=(covariance_matrix,), method='SLSQP',\n",
    "                            constraints=constraints, bounds=bounds)\n",
    "\n",
    "# 獲取最優權重\n",
    "risk_parity_weights = optimized_result.x\n",
    "print(\"風險平價權重: \\n\", risk_parity_weights)\n",
    "\n",
    "# 使用計算出的權重計算投資組合的波動率\n",
    "portfolio_volatility = np.sqrt(np.dot(risk_parity_weights.T, np.dot(covariance_matrix, risk_parity_weights)))\n",
    "\n",
    "# 計算每個資產的邊際風險貢獻\n",
    "marginal_risk_contributions = np.dot(covariance_matrix, risk_parity_weights) / portfolio_volatility\n",
    "\n",
    "# 計算每個資產的風險貢獻 RC_i\n",
    "risk_contributions = risk_parity_weights * marginal_risk_contributions\n",
    "\n",
    "# 輸出風險貢獻\n",
    "print(\"每個資產的風險貢獻 (Risk Contributions): \\n\", risk_contributions)\n",
    "\n",
    "# 可視化權重\n",
    "plt.bar(df.columns, risk_parity_weights)\n",
    "plt.title('Risk Parity Weights')\n",
    "plt.xlabel('Assets')\n",
    "plt.ylabel('Weights')\n",
    "plt.show()\n"
   ]
  },
  {
   "cell_type": "code",
   "execution_count": null,
   "metadata": {},
   "outputs": [],
   "source": []
  }
 ],
 "metadata": {
  "kernelspec": {
   "display_name": "Python 3",
   "language": "python",
   "name": "python3"
  },
  "language_info": {
   "codemirror_mode": {
    "name": "ipython",
    "version": 3
   },
   "file_extension": ".py",
   "mimetype": "text/x-python",
   "name": "python",
   "nbconvert_exporter": "python",
   "pygments_lexer": "ipython3",
   "version": "3.12.4"
  }
 },
 "nbformat": 4,
 "nbformat_minor": 2
}
