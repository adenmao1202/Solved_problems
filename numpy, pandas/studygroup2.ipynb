{
 "cells": [
  {
   "cell_type": "markdown",
   "metadata": {},
   "source": [
    "### Hedge Ratio "
   ]
  },
  {
   "cell_type": "markdown",
   "metadata": {},
   "source": [
    "- use asset two to calculate the relative asset one's hedge ratio "
   ]
  },
  {
   "cell_type": "code",
   "execution_count": 11,
   "metadata": {},
   "outputs": [
    {
     "name": "stdout",
     "output_type": "stream",
     "text": [
      "[[ 1. 50.]\n",
      " [ 1. 51.]\n",
      " [ 1. 53.]\n",
      " [ 1. 52.]\n",
      " [ 1. 54.]]\n",
      "Hedge Ratio: 1.1999999999999997\n",
      "intercept: 40.39999999999981\n"
     ]
    }
   ],
   "source": [
    "import numpy as np\n",
    "import statsmodels.api as sm\n",
    "\n",
    "# Example price data for two assets\n",
    "price_asset1 = np.array([100, 102, 104, 103, 105])  # Asset 1 prices\n",
    "price_asset2 = np.array([50, 51, 53, 52, 54])  # Asset 2 prices\n",
    "\n",
    "# Add constant to the independent variable (Asset 2) for OLS regression\n",
    "X = sm.add_constant(price_asset2)\n",
    "print(X)\n",
    "model = sm.OLS(price_asset1, X).fit()\n",
    "\n",
    "# Hedge ratio is the slope coefficient of the regression\n",
    "hedge_ratio = model.params[1]\n",
    "constant = model.params[0]\n",
    "print(f\"Hedge Ratio: {hedge_ratio}\")\n",
    "print(f\"intercept: {constant}\")\n"
   ]
  },
  {
   "cell_type": "markdown",
   "metadata": {},
   "source": []
  },
  {
   "cell_type": "markdown",
   "metadata": {},
   "source": [
    "### Hedging error "
   ]
  },
  {
   "cell_type": "code",
   "execution_count": 15,
   "metadata": {},
   "outputs": [
    {
     "name": "stdout",
     "output_type": "stream",
     "text": [
      "Hedge Ratio: 1.2\n",
      "Actual Price Changes (Asset 1): [ 2  3 -1  3]\n",
      "Expected Price Changes (Hedged): [ 1.2  2.4 -1.2  2.4]\n",
      "Hedging Error: [0.8 0.6 0.2 0.6]\n"
     ]
    }
   ],
   "source": [
    "import numpy as np\n",
    "\n",
    "# 假設我們有資產 1 和資產 2 的價格數據\n",
    "price_asset1 = np.array([100, 102, 105, 104, 107])  # 資產 1 的價格\n",
    "price_asset2 = np.array([50, 51, 53, 52, 54])  # 資產 2 的價格\n",
    "\n",
    "# 對沖比例（這個假設事先已經計算出來）\n",
    "hedge_ratio = 1.2\n",
    "\n",
    "# 實際價格變化: t - [t-1]\n",
    "actual_price_change_asset1 = np.diff(price_asset1)  # 資產 1 的價格變化\n",
    "actual_price_change_asset2 = np.diff(price_asset2)  # 資產 2 的價格變化\n",
    "\n",
    "# 預期價格變化（基於資產 2 並乘以對沖比例）\n",
    "expected_price_change_asset1 = hedge_ratio * actual_price_change_asset2\n",
    "\n",
    "# 計算對沖誤差\n",
    "hedging_error = actual_price_change_asset1 - expected_price_change_asset1\n",
    "\n",
    "# 打印結果\n",
    "print(f\"Hedge Ratio: {hedge_ratio}\")\n",
    "print(f\"Actual Price Changes (Asset 1): {actual_price_change_asset1}\")\n",
    "print(f\"Expected Price Changes (Hedged): {expected_price_change_asset1}\")\n",
    "print(f\"Hedging Error: {hedging_error}\")\n"
   ]
  },
  {
   "cell_type": "code",
   "execution_count": 16,
   "metadata": {},
   "outputs": [
    {
     "name": "stdout",
     "output_type": "stream",
     "text": [
      "Hedge Ratio: 1.2\n",
      "Actual Returns (Asset 1): [ 0.02        0.02941176 -0.00952381  0.02884615]\n",
      "Expected Returns (Hedged): [ 0.024       0.04705882 -0.02264151  0.04615385]\n",
      "Hedging Error: [-0.004      -0.01764706  0.0131177  -0.01730769]\n"
     ]
    }
   ],
   "source": [
    "\n",
    "# Actual Return \n",
    "return_asset1 = np.diff(price_asset1) / price_asset1[:-1]\n",
    "return_asset2 = np.diff(price_asset2) / price_asset2[:-1]\n",
    "\n",
    "# Expected return \n",
    "expected_return_asset1 = hedge_ratio * return_asset2\n",
    "\n",
    "# Calculate the hedging error\n",
    "hedging_error = return_asset1 - expected_return_asset1\n",
    "\n",
    "# Print results\n",
    "print(f\"Hedge Ratio: {hedge_ratio}\")\n",
    "print(f\"Actual Returns (Asset 1): {return_asset1}\")\n",
    "print(f\"Expected Returns (Hedged): {expected_return_asset1}\")\n",
    "print(f\"Hedging Error: {hedging_error}\")\n"
   ]
  },
  {
   "cell_type": "code",
   "execution_count": null,
   "metadata": {},
   "outputs": [],
   "source": []
  }
 ],
 "metadata": {
  "kernelspec": {
   "display_name": "Python 3",
   "language": "python",
   "name": "python3"
  },
  "language_info": {
   "codemirror_mode": {
    "name": "ipython",
    "version": 3
   },
   "file_extension": ".py",
   "mimetype": "text/x-python",
   "name": "python",
   "nbconvert_exporter": "python",
   "pygments_lexer": "ipython3",
   "version": "3.12.4"
  }
 },
 "nbformat": 4,
 "nbformat_minor": 2
}
